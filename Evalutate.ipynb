{
 "cells": [
  {
   "cell_type": "markdown",
   "metadata": {},
   "source": [
    "## Checking model performance"
   ]
  },
  {
   "cell_type": "markdown",
   "metadata": {},
   "source": [
    "Load the foundational MACE models"
   ]
  },
  {
   "cell_type": "code",
   "execution_count": 1,
   "metadata": {},
   "outputs": [
    {
     "name": "stderr",
     "output_type": "stream",
     "text": [
      "/Users/soni_aman/anaconda3/envs/thesis_all/lib/python3.13/site-packages/e3nn/o3/_wigner.py:10: UserWarning: Environment variable TORCH_FORCE_NO_WEIGHTS_ONLY_LOAD detected, since the`weights_only` argument was not explicitly passed to `torch.load`, forcing weights_only=False.\n",
      "  _Jd, _W3j_flat, _W3j_indices = torch.load(os.path.join(os.path.dirname(__file__), 'constants.pt'))\n"
     ]
    },
    {
     "name": "stdout",
     "output_type": "stream",
     "text": [
      "cuequivariance or cuequivariance_torch is not available. Cuequivariance acceleration will be disabled.\n"
     ]
    },
    {
     "name": "stderr",
     "output_type": "stream",
     "text": [
      "/Users/soni_aman/anaconda3/envs/thesis_all/lib/python3.13/site-packages/mace/calculators/mace.py:139: UserWarning: Environment variable TORCH_FORCE_NO_WEIGHTS_ONLY_LOAD detected, since the`weights_only` argument was not explicitly passed to `torch.load`, forcing weights_only=False.\n",
      "  torch.load(f=model_path, map_location=device)\n",
      "/Users/soni_aman/anaconda3/envs/thesis_all/lib/python3.13/site-packages/mace/calculators/mace.py:139: UserWarning: Environment variable TORCH_FORCE_NO_WEIGHTS_ONLY_LOAD detected, since the`weights_only` argument was not explicitly passed to `torch.load`, forcing weights_only=False.\n",
      "  torch.load(f=model_path, map_location=device)\n",
      "/Users/soni_aman/anaconda3/envs/thesis_all/lib/python3.13/site-packages/mace/calculators/mace.py:139: UserWarning: Environment variable TORCH_FORCE_NO_WEIGHTS_ONLY_LOAD detected, since the`weights_only` argument was not explicitly passed to `torch.load`, forcing weights_only=False.\n",
      "  torch.load(f=model_path, map_location=device)\n"
     ]
    }
   ],
   "source": [
    "from mace.calculators import MACECalculator\n",
    "\n",
    "mace_mpa_0 = MACECalculator(model_paths=\"/Users/soni_aman/Documents/Master Thesis/Sir_Sihna_Sign/Fine_tune_dir/Models/mace-mpa-0-medium.model\", device=\"cpu\", default_dtype=\"float64\")\n",
    "calc_small = MACECalculator(model_paths=\"/Users/soni_aman/Documents/Master Thesis/Sir_Sihna_Sign/Fine_tune_dir/Models/small_MACE_MP_0.model\", device=\"cpu\", default_dtype=\"float64\")\n",
    "calc_large = MACECalculator(model_paths=\"/Users/soni_aman/Documents/Master Thesis/Sir_Sihna_Sign/Fine_tune_dir/Models/large_MACE_MP_0.model\", device=\"cpu\", default_dtype=\"float64\")"
   ]
  },
  {
   "cell_type": "markdown",
   "metadata": {},
   "source": [
    "Load the trained models"
   ]
  },
  {
   "cell_type": "code",
   "execution_count": 2,
   "metadata": {},
   "outputs": [
    {
     "name": "stderr",
     "output_type": "stream",
     "text": [
      "/Users/soni_aman/anaconda3/envs/thesis_all/lib/python3.13/site-packages/mace/calculators/mace.py:139: UserWarning: Environment variable TORCH_FORCE_NO_WEIGHTS_ONLY_LOAD detected, since the`weights_only` argument was not explicitly passed to `torch.load`, forcing weights_only=False.\n",
      "  torch.load(f=model_path, map_location=device)\n",
      "/Users/soni_aman/anaconda3/envs/thesis_all/lib/python3.13/site-packages/torch/serialization.py:1434: UserWarning: 'torch.load' received a zip file that looks like a TorchScript archive dispatching to 'torch.jit.load' (call 'torch.jit.load' directly to silence this warning)\n",
      "  warnings.warn(\n"
     ]
    }
   ],
   "source": [
    "naive_210_30 = MACECalculator(model_paths=\"/Users/soni_aman/Documents/Master Thesis/Sir_Sihna_Sign/Fine_tune_dir/Models/epch30_210_compiled.model\", device=\"cpu\", default_dtype=\"float64\")\n",
    "naive_210_100 = MACECalculator(model_paths=\"/Users/soni_aman/Documents/Master Thesis/Sir_Sihna_Sign/Fine_tune_dir/Models/epch100_210_compiled.model\", device=\"cpu\", default_dtype=\"float64\")\n",
    "naive_314 = MACECalculator(model_paths=\"/Users/soni_aman/Documents/Master Thesis/Sir_Sihna_Sign/Fine_tune_dir/Models/naive_314_compiled.model\", device=\"cpu\", default_dtype=\"float64\")\n",
    "scratch_314_avg = MACECalculator(model_paths=\"/Users/soni_aman/Documents/Master Thesis/Sir_Sihna_Sign/Fine_tune_dir/Models/scratch_314_avg_compiled.model\", device=\"cpu\", default_dtype=\"float64\")\n",
    "naive_234 = MACECalculator(model_paths=\"/Users/soni_aman/Documents/Master Thesis/Sir_Sihna_Sign/Fine_tune_dir/Models/naive_234_forces_compiled.model\", device=\"cpu\", default_dtype=\"float64\")\n",
    "scratch_234_avg = MACECalculator(model_paths=\"/Users/soni_aman/Documents/Master Thesis/Sir_Sihna_Sign/Fine_tune_dir/Models/scratch_234_forces_avg_compiled.model\", device=\"cpu\", default_dtype=\"float64\")"
   ]
  },
  {
   "cell_type": "markdown",
   "metadata": {},
   "source": [
    "Function to extract energy, forces and node contributions from MACE MLIPs\n",
    "\n",
    "The node contributions are essential in understanding how each atom (node) is contributing to the energy in the structure."
   ]
  },
  {
   "cell_type": "code",
   "execution_count": 3,
   "metadata": {},
   "outputs": [],
   "source": [
    "def get_energy(mace_model, ase_obj):\n",
    "    ase_obj.calc = mace_model\n",
    "\n",
    "    energy = ase_obj.get_potential_energy()\n",
    "    node_contributions = mace_model.results[\"node_energy\"]\n",
    "\n",
    "    # print(f\"Total Energy: {energy:.6f} eV\")\n",
    "    # print(f\"Node Contributions: {node_contributions}\")\n",
    "\n",
    "    return energy, node_contributions\n",
    "\n",
    "def get_energy_forces(mace_model, ase_obj):\n",
    "    ase_obj.calc = mace_model\n",
    "\n",
    "    energy = ase_obj.get_potential_energy()\n",
    "    forces = ase_obj.get_forces()\n",
    "    node_contributions = mace_model.results[\"node_energy\"]\n",
    "    \n",
    "    print(f\"Total Energy: {energy:.6f} eV\")\n",
    "    print(f\"Node Contributions: {node_contributions}\")\n",
    "    print(f\"Total Forces: {forces}\")\n",
    "\n",
    "    return energy, forces, node_contributions"
   ]
  },
  {
   "cell_type": "markdown",
   "metadata": {},
   "source": [
    "Load the various structures for model analysis"
   ]
  },
  {
   "cell_type": "code",
   "execution_count": 4,
   "metadata": {},
   "outputs": [
    {
     "name": "stderr",
     "output_type": "stream",
     "text": [
      "/Users/soni_aman/anaconda3/envs/thesis_all/lib/python3.13/site-packages/pymatgen/io/cif.py:765: UserWarning: No _symmetry_equiv_pos_as_xyz type key found. Spacegroup from _symmetry_space_group_name_H-M used.\n",
      "  warnings.warn(msg)\n",
      "/Users/soni_aman/anaconda3/envs/thesis_all/lib/python3.13/site-packages/pymatgen/io/cif.py:1290: UserWarning: Issues encountered while parsing CIF: No _symmetry_equiv_pos_as_xyz type key found. Spacegroup from _symmetry_space_group_name_H-M used.\n",
      "  warnings.warn(\"Issues encountered while parsing CIF: \" + \"\\n\".join(self.warnings))\n"
     ]
    }
   ],
   "source": [
    "from pymatgen.core import Structure, Lattice\n",
    "from pymatgen.io.ase import AseAtomsAdaptor\n",
    "\n",
    "org_struct = Structure.from_file(\"/Users/soni_aman/Documents/Master Thesis/Sir_Sihna_Sign/Fine_tune_dir/Fine_Tuned_Calculations/Fe2NiO4_mp-22684_conventional_standard.cif\")\n",
    "org_struct = AseAtomsAdaptor.get_atoms(org_struct)\n",
    "\n",
    "inv_struct = Structure.from_file(\"/Users/soni_aman/Documents/Master Thesis/Sir_Sihna_Sign/Fine_tune_dir/Fine_Tuned_Calculations/inv_spinel_NiFe2O4.cif\")\n",
    "inv_struct = AseAtomsAdaptor.get_atoms(inv_struct)\n",
    "\n",
    "Mo_Fe_oct_inv_struct = Structure.from_file(\"/Users/soni_aman/Documents/Master Thesis/Sir_Sihna_Sign/Fine_tune_dir/Fine_Tuned_Calculations/Mo_FeOct_inv_spinel_NiFe2O4.cif\")\n",
    "Mo_Fe_oct_inv_struct = AseAtomsAdaptor.get_atoms(Mo_Fe_oct_inv_struct)\n",
    "\n",
    "Mo_Fe_tet_inv_struct = Structure.from_file(\"/Users/soni_aman/Documents/Master Thesis/Sir_Sihna_Sign/Fine_tune_dir/Fine_Tuned_Calculations/Mo_FeTd_inv_spinel_NiFe2O4.cif\")\n",
    "Mo_Fe_tet_inv_struct = AseAtomsAdaptor.get_atoms(Mo_Fe_tet_inv_struct)\n",
    "\n",
    "Mo_Ni_oct_inv_struct = Structure.from_file(\"/Users/soni_aman/Documents/Master Thesis/Sir_Sihna_Sign/Fine_tune_dir/Fine_Tuned_Calculations/Mo_NiOct_inv_spinel_NiFe2O4.cif\")\n",
    "Mo_Ni_oct_inv_struct = AseAtomsAdaptor.get_atoms(Mo_Ni_oct_inv_struct)\n",
    "\n",
    "Mo_interstitial_inv_struct = Structure.from_file(\"/Users/soni_aman/Documents/Master Thesis/Sir_Sihna_Sign/Fine_tune_dir/Fine_Tuned_Calculations/Mo_center_inv_spinel_NiFe2O4.cif\")\n",
    "Mo_interstitial_inv_struct = AseAtomsAdaptor.get_atoms(Mo_interstitial_inv_struct)"
   ]
  },
  {
   "cell_type": "markdown",
   "metadata": {},
   "source": [
    "Load COD structures with single atom type only crystal structures. \n",
    "\n",
    "Essential for energy per atom calculations for formation energies"
   ]
  },
  {
   "cell_type": "code",
   "execution_count": 5,
   "metadata": {},
   "outputs": [],
   "source": [
    "Mo_only = Structure.from_file(\"/Users/soni_aman/Documents/Master Thesis/Sir_Sihna_Sign/Fine_tune_dir/Fine_Tuned_Calculations/Mo-9008474.cif\")\n",
    "Mo_only = AseAtomsAdaptor.get_atoms(Mo_only)\n",
    "\n",
    "Fe_only = Structure.from_file(\"/Users/soni_aman/Documents/Master Thesis/Sir_Sihna_Sign/Fine_tune_dir/Fine_Tuned_Calculations/Fe-9015972.cif\")\n",
    "Fe_only = AseAtomsAdaptor.get_atoms(Fe_only)\n",
    "\n",
    "Ni_only = Structure.from_file(\"/Users/soni_aman/Documents/Master Thesis/Sir_Sihna_Sign/Fine_tune_dir/Fine_Tuned_Calculations/Ni-9012985.cif\")\n",
    "Ni_only = AseAtomsAdaptor.get_atoms(Ni_only)"
   ]
  },
  {
   "cell_type": "code",
   "execution_count": 6,
   "metadata": {},
   "outputs": [
    {
     "name": "stderr",
     "output_type": "stream",
     "text": [
      "Processing models:   0%|          | 0/9 [00:00<?, ?it/s]"
     ]
    },
    {
     "name": "stdout",
     "output_type": "stream",
     "text": [
      "Calculated large on original: Energy = -342.058469 eV\n",
      "Calculated large on inverse_spinel: Energy = -343.563568 eV\n",
      "Calculated large on Mo_Fe_oct: Energy = -345.369541 eV\n",
      "Calculated large on Mo_Fe_tet: Energy = -344.856983 eV\n",
      "Calculated large on Mo_Ni_oct: Energy = -348.804229 eV\n",
      "Calculated large on Mo_center: Energy = -324.161344 eV\n",
      "Calculated large on Mo_only: Energy = -42.063383 eV\n",
      "Calculated large on Fe_only: Energy = -33.405993 eV\n"
     ]
    },
    {
     "name": "stderr",
     "output_type": "stream",
     "text": [
      "Processing models:  11%|█         | 1/9 [00:05<00:42,  5.37s/it]"
     ]
    },
    {
     "name": "stdout",
     "output_type": "stream",
     "text": [
      "Calculated large on Ni_only: Energy = -22.972456 eV\n",
      "Calculated small on original: Energy = -342.503358 eV\n",
      "Calculated small on inverse_spinel: Energy = -344.376916 eV\n",
      "Calculated small on Mo_Fe_oct: Energy = -346.307420 eV\n",
      "Calculated small on Mo_Fe_tet: Energy = -346.302990 eV\n",
      "Calculated small on Mo_Ni_oct: Energy = -349.506957 eV\n"
     ]
    },
    {
     "name": "stderr",
     "output_type": "stream",
     "text": [
      "Processing models:  22%|██▏       | 2/9 [00:07<00:22,  3.20s/it]"
     ]
    },
    {
     "name": "stdout",
     "output_type": "stream",
     "text": [
      "Calculated small on Mo_center: Energy = -333.308963 eV\n",
      "Calculated small on Mo_only: Energy = -42.134410 eV\n",
      "Calculated small on Fe_only: Energy = -33.596174 eV\n",
      "Calculated small on Ni_only: Energy = -22.919453 eV\n",
      "Calculated mpa_0 on original: Energy = -339.890929 eV\n",
      "Calculated mpa_0 on inverse_spinel: Energy = -342.755972 eV\n",
      "Calculated mpa_0 on Mo_Fe_oct: Energy = -344.426656 eV\n",
      "Calculated mpa_0 on Mo_Fe_tet: Energy = -344.011199 eV\n",
      "Calculated mpa_0 on Mo_Ni_oct: Energy = -347.725423 eV\n"
     ]
    },
    {
     "name": "stderr",
     "output_type": "stream",
     "text": [
      "Processing models:  33%|███▎      | 3/9 [00:11<00:22,  3.79s/it]"
     ]
    },
    {
     "name": "stdout",
     "output_type": "stream",
     "text": [
      "Calculated mpa_0 on Mo_center: Energy = -324.287445 eV\n",
      "Calculated mpa_0 on Mo_only: Energy = -41.266564 eV\n",
      "Calculated mpa_0 on Fe_only: Energy = -33.392808 eV\n",
      "Calculated mpa_0 on Ni_only: Energy = -23.142735 eV\n",
      "Calculated fine-tuned_314 on original: Energy = -410.931647 eV\n",
      "Calculated fine-tuned_314 on inverse_spinel: Energy = -417.477082 eV\n",
      "Calculated fine-tuned_314 on Mo_Fe_oct: Energy = -422.189465 eV\n",
      "Calculated fine-tuned_314 on Mo_Fe_tet: Energy = -421.419356 eV\n",
      "Calculated fine-tuned_314 on Mo_Ni_oct: Energy = -426.487051 eV\n",
      "Calculated fine-tuned_314 on Mo_center: Energy = -401.211121 eV\n",
      "Calculated fine-tuned_314 on Mo_only: Energy = -42.179817 eV\n",
      "Calculated fine-tuned_314 on Fe_only: Energy = -34.517072 eV\n"
     ]
    },
    {
     "name": "stderr",
     "output_type": "stream",
     "text": [
      "Processing models:  44%|████▍     | 4/9 [00:16<00:21,  4.38s/it]"
     ]
    },
    {
     "name": "stdout",
     "output_type": "stream",
     "text": [
      "Calculated fine-tuned_314 on Ni_only: Energy = -24.618802 eV\n",
      "Calculated from-scratch_314 on original: Energy = -408.626907 eV\n",
      "Calculated from-scratch_314 on inverse_spinel: Energy = -408.198581 eV\n",
      "Calculated from-scratch_314 on Mo_Fe_oct: Energy = -410.092779 eV\n",
      "Calculated from-scratch_314 on Mo_Fe_tet: Energy = -410.324117 eV\n",
      "Calculated from-scratch_314 on Mo_Ni_oct: Energy = -414.693466 eV\n",
      "Calculated from-scratch_314 on Mo_center: Energy = -419.650452 eV\n",
      "Calculated from-scratch_314 on Mo_only: Energy = -45.710938 eV\n",
      "Calculated from-scratch_314 on Fe_only: Energy = -34.284959 eV\n"
     ]
    },
    {
     "name": "stderr",
     "output_type": "stream",
     "text": [
      "Processing models:  56%|█████▌    | 5/9 [00:21<00:18,  4.63s/it]"
     ]
    },
    {
     "name": "stdout",
     "output_type": "stream",
     "text": [
      "Calculated from-scratch_314 on Ni_only: Energy = -21.513074 eV\n",
      "Calculated fine-tuned_210_30 on original: Energy = -419.258733 eV\n",
      "Calculated fine-tuned_210_30 on inverse_spinel: Energy = -423.548547 eV\n",
      "Error with fine-tuned_210_30 on Mo_Fe_oct: 42 is not in list\n",
      "Error with fine-tuned_210_30 on Mo_Fe_tet: 42 is not in list\n",
      "Error with fine-tuned_210_30 on Mo_Ni_oct: 42 is not in list\n",
      "Error with fine-tuned_210_30 on Mo_center: 42 is not in list\n",
      "Error with fine-tuned_210_30 on Mo_only: 42 is not in list\n"
     ]
    },
    {
     "name": "stderr",
     "output_type": "stream",
     "text": [
      "Processing models:  67%|██████▋   | 6/9 [00:24<00:11,  3.97s/it]"
     ]
    },
    {
     "name": "stdout",
     "output_type": "stream",
     "text": [
      "Calculated fine-tuned_210_30 on Fe_only: Energy = -33.635398 eV\n",
      "Calculated fine-tuned_210_30 on Ni_only: Energy = -23.242960 eV\n",
      "Calculated fine-tuned_210_100 on original: Energy = -419.258733 eV\n",
      "Calculated fine-tuned_210_100 on inverse_spinel: Energy = -423.548547 eV\n",
      "Error with fine-tuned_210_100 on Mo_Fe_oct: 42 is not in list\n",
      "Error with fine-tuned_210_100 on Mo_Fe_tet: 42 is not in list\n",
      "Error with fine-tuned_210_100 on Mo_Ni_oct: 42 is not in list\n",
      "Error with fine-tuned_210_100 on Mo_center: 42 is not in list\n",
      "Error with fine-tuned_210_100 on Mo_only: 42 is not in list\n"
     ]
    },
    {
     "name": "stderr",
     "output_type": "stream",
     "text": [
      "Processing models:  78%|███████▊  | 7/9 [00:27<00:07,  3.55s/it]"
     ]
    },
    {
     "name": "stdout",
     "output_type": "stream",
     "text": [
      "Calculated fine-tuned_210_100 on Fe_only: Energy = -33.635398 eV\n",
      "Calculated fine-tuned_210_100 on Ni_only: Energy = -23.242960 eV\n",
      "Calculated fine-tuned_234 on original: Energy = -342.400382 eV\n",
      "Calculated fine-tuned_234 on inverse_spinel: Energy = -349.275401 eV\n",
      "Calculated fine-tuned_234 on Mo_Fe_oct: Energy = -356.648066 eV\n",
      "Calculated fine-tuned_234 on Mo_Fe_tet: Energy = -356.180362 eV\n",
      "Calculated fine-tuned_234 on Mo_Ni_oct: Energy = -361.085897 eV\n",
      "Calculated fine-tuned_234 on Mo_center: Energy = -337.157884 eV\n",
      "Calculated fine-tuned_234 on Mo_only: Energy = -40.988688 eV\n",
      "Calculated fine-tuned_234 on Fe_only: Energy = -33.284860 eV\n"
     ]
    },
    {
     "name": "stderr",
     "output_type": "stream",
     "text": [
      "Processing models:  89%|████████▉ | 8/9 [00:32<00:04,  4.09s/it]"
     ]
    },
    {
     "name": "stdout",
     "output_type": "stream",
     "text": [
      "Calculated fine-tuned_234 on Ni_only: Energy = -23.430286 eV\n",
      "Calculated from-scratch_234 on original: Energy = -343.157695 eV\n",
      "Calculated from-scratch_234 on inverse_spinel: Energy = -342.787040 eV\n",
      "Calculated from-scratch_234 on Mo_Fe_oct: Energy = -345.315367 eV\n",
      "Calculated from-scratch_234 on Mo_Fe_tet: Energy = -345.379974 eV\n",
      "Calculated from-scratch_234 on Mo_Ni_oct: Energy = -349.848032 eV\n",
      "Calculated from-scratch_234 on Mo_center: Energy = -354.328583 eV\n",
      "Calculated from-scratch_234 on Mo_only: Energy = -46.431824 eV\n"
     ]
    },
    {
     "name": "stderr",
     "output_type": "stream",
     "text": [
      "Processing models: 100%|██████████| 9/9 [00:43<00:00,  4.83s/it]"
     ]
    },
    {
     "name": "stdout",
     "output_type": "stream",
     "text": [
      "Calculated from-scratch_234 on Fe_only: Energy = -37.085006 eV\n",
      "Calculated from-scratch_234 on Ni_only: Energy = -17.721183 eV\n",
      "\n",
      "Energies (eV):\n",
      "structure             Fe_only   Mo_Fe_oct   Mo_Fe_tet   Mo_Ni_oct   Mo_center  \\\n",
      "model                                                                           \n",
      "fine-tuned_210_100 -33.635398         NaN         NaN         NaN         NaN   \n",
      "fine-tuned_210_30  -33.635398         NaN         NaN         NaN         NaN   \n",
      "fine-tuned_234     -33.284860 -356.648066 -356.180362 -361.085897 -337.157884   \n",
      "fine-tuned_314     -34.517072 -422.189465 -421.419356 -426.487051 -401.211121   \n",
      "from-scratch_234   -37.085006 -345.315367 -345.379974 -349.848032 -354.328583   \n",
      "from-scratch_314   -34.284959 -410.092779 -410.324117 -414.693466 -419.650452   \n",
      "large              -33.405993 -345.369541 -344.856983 -348.804229 -324.161344   \n",
      "mpa_0              -33.392808 -344.426656 -344.011199 -347.725423 -324.287445   \n",
      "small              -33.596174 -346.307420 -346.302990 -349.506957 -333.308963   \n",
      "\n",
      "structure             Mo_only    Ni_only  inverse_spinel    original  \n",
      "model                                                                 \n",
      "fine-tuned_210_100        NaN -23.242960     -423.548547 -419.258733  \n",
      "fine-tuned_210_30         NaN -23.242960     -423.548547 -419.258733  \n",
      "fine-tuned_234     -40.988688 -23.430286     -349.275401 -342.400382  \n",
      "fine-tuned_314     -42.179817 -24.618802     -417.477082 -410.931647  \n",
      "from-scratch_234   -46.431824 -17.721183     -342.787040 -343.157695  \n",
      "from-scratch_314   -45.710938 -21.513074     -408.198581 -408.626907  \n",
      "large              -42.063383 -22.972456     -343.563568 -342.058469  \n",
      "mpa_0              -41.266564 -23.142735     -342.755972 -339.890929  \n",
      "small              -42.134410 -22.919453     -344.376916 -342.503358  \n"
     ]
    },
    {
     "name": "stderr",
     "output_type": "stream",
     "text": [
      "\n"
     ]
    }
   ],
   "source": [
    "import pandas as pd\n",
    "import numpy as np\n",
    "from tqdm import tqdm\n",
    "\n",
    "models = {\n",
    "    \"large\": calc_large,\n",
    "    \"small\": calc_small,\n",
    "    \"mpa_0\": mace_mpa_0,\n",
    "    \"fine-tuned_314\": naive_314,\n",
    "    \"from-scratch_314\": scratch_314_avg,\n",
    "    \"fine-tuned_210_30\": naive_210_30,\n",
    "    \"fine-tuned_210_100\": naive_210_100,\n",
    "    \"fine-tuned_234\": naive_234,\n",
    "    \"from-scratch_234\": scratch_234_avg\n",
    "}\n",
    "\n",
    "structures = {\n",
    "    \"original\": org_struct,\n",
    "    \"inverse_spinel\": inv_struct,\n",
    "    \"Mo_Fe_oct\": Mo_Fe_oct_inv_struct,\n",
    "    \"Mo_Fe_tet\": Mo_Fe_tet_inv_struct,\n",
    "    \"Mo_Ni_oct\": Mo_Ni_oct_inv_struct,\n",
    "    \"Mo_center\": Mo_interstitial_inv_struct,\n",
    "    \"Mo_only\": Mo_only,\n",
    "    \"Fe_only\": Fe_only,\n",
    "    \"Ni_only\": Ni_only\n",
    "}\n",
    "\n",
    "results = {}\n",
    "\n",
    "# Loop through all models and structures\n",
    "for model_name, model in tqdm(models.items(), desc=\"Processing models\"):\n",
    "    for struct_name, struct in structures.items():\n",
    "        try:\n",
    "            energy, node_energy = get_energy(model, struct)\n",
    "            key = f\"{model_name}_{struct_name}\"\n",
    "            results[key] = {\n",
    "                \"model\": model_name,\n",
    "                \"structure\": struct_name,\n",
    "                \"energy\": energy\n",
    "            }\n",
    "            print(f\"Calculated {model_name} on {struct_name}: Energy = {energy:.6f} eV\")\n",
    "        except Exception as e:\n",
    "            print(f\"Error with {model_name} on {struct_name}: {str(e)}\")\n",
    "            results[f\"{model_name}_{struct_name}\"] = {\n",
    "                \"model\": model_name,\n",
    "                \"structure\": struct_name,\n",
    "                \"energy\": None,\n",
    "                \"max_force\": None,\n",
    "                \"mean_force\": None\n",
    "            }\n",
    "\n",
    "# Convert results to DataFrame\n",
    "results_df = pd.DataFrame(results.values())\n",
    "\n",
    "# Pivot the DataFrame for better visualization\n",
    "energy_pivot = results_df.pivot(index='model', columns='structure', values='energy')\n",
    "\n",
    "# Display the results\n",
    "print(\"\\nEnergies (eV):\")\n",
    "print(energy_pivot)\n",
    "\n",
    "# Save the results to CSV files\n",
    "energy_pivot.to_csv(\"model_structure_energies.csv\")\n",
    "results_df.to_csv(\"model_structure_all_results.csv\", index=False)"
   ]
  },
  {
   "cell_type": "markdown",
   "metadata": {},
   "source": [
    "Add a force evaluation for models trained on forces and energies both"
   ]
  },
  {
   "cell_type": "code",
   "execution_count": null,
   "metadata": {},
   "outputs": [
    {
     "name": "stderr",
     "output_type": "stream",
     "text": [
      "Processing models:   0%|          | 0/5 [00:00<?, ?it/s]"
     ]
    },
    {
     "name": "stdout",
     "output_type": "stream",
     "text": [
      "Calculated large on original: Energy = -342.058469 eV\n",
      "Calculated large on inverse_spinel: Energy = -343.563568 eV\n",
      "Calculated large on Mo_Fe_oct: Energy = -345.369541 eV\n",
      "Calculated large on Mo_Fe_tet: Energy = -344.856983 eV\n",
      "Calculated large on Mo_Ni_oct: Energy = -348.804229 eV\n"
     ]
    },
    {
     "name": "stderr",
     "output_type": "stream",
     "text": [
      "Processing models:  20%|██        | 1/5 [00:04<00:17,  4.38s/it]"
     ]
    },
    {
     "name": "stdout",
     "output_type": "stream",
     "text": [
      "Calculated large on Mo_center: Energy = -324.161344 eV\n",
      "Calculated small on original: Energy = -342.503358 eV\n",
      "Calculated small on inverse_spinel: Energy = -344.376916 eV\n",
      "Calculated small on Mo_Fe_oct: Energy = -346.307420 eV\n",
      "Calculated small on Mo_Fe_tet: Energy = -346.302990 eV\n",
      "Calculated small on Mo_Ni_oct: Energy = -349.506957 eV\n"
     ]
    },
    {
     "name": "stderr",
     "output_type": "stream",
     "text": [
      "Processing models:  40%|████      | 2/5 [00:05<00:07,  2.64s/it]"
     ]
    },
    {
     "name": "stdout",
     "output_type": "stream",
     "text": [
      "Calculated small on Mo_center: Energy = -333.308963 eV\n",
      "Calculated mpa_0 on original: Energy = -339.890929 eV\n",
      "Calculated mpa_0 on inverse_spinel: Energy = -342.755972 eV\n",
      "Calculated mpa_0 on Mo_Fe_oct: Energy = -344.426656 eV\n",
      "Calculated mpa_0 on Mo_Fe_tet: Energy = -344.011199 eV\n",
      "Calculated mpa_0 on Mo_Ni_oct: Energy = -347.725423 eV\n"
     ]
    },
    {
     "name": "stderr",
     "output_type": "stream",
     "text": [
      "Processing models:  60%|██████    | 3/5 [00:09<00:06,  3.31s/it]"
     ]
    },
    {
     "name": "stdout",
     "output_type": "stream",
     "text": [
      "Calculated mpa_0 on Mo_center: Energy = -324.287445 eV\n",
      "Calculated fine-tuned_234 on original: Energy = -342.400382 eV\n",
      "Calculated fine-tuned_234 on inverse_spinel: Energy = -349.275401 eV\n",
      "Calculated fine-tuned_234 on Mo_Fe_oct: Energy = -356.648066 eV\n",
      "Calculated fine-tuned_234 on Mo_Fe_tet: Energy = -356.180362 eV\n",
      "Calculated fine-tuned_234 on Mo_Ni_oct: Energy = -361.085897 eV\n"
     ]
    },
    {
     "name": "stderr",
     "output_type": "stream",
     "text": [
      "Processing models:  80%|████████  | 4/5 [00:13<00:03,  3.53s/it]"
     ]
    },
    {
     "name": "stdout",
     "output_type": "stream",
     "text": [
      "Calculated fine-tuned_234 on Mo_center: Energy = -337.157884 eV\n",
      "Calculated from-scratch_234 on original: Energy = -343.157695 eV\n",
      "Calculated from-scratch_234 on inverse_spinel: Energy = -342.787040 eV\n",
      "Calculated from-scratch_234 on Mo_Fe_oct: Energy = -345.315367 eV\n",
      "Calculated from-scratch_234 on Mo_Fe_tet: Energy = -345.379974 eV\n",
      "Calculated from-scratch_234 on Mo_Ni_oct: Energy = -349.848032 eV\n"
     ]
    },
    {
     "name": "stderr",
     "output_type": "stream",
     "text": [
      "Processing models: 100%|██████████| 5/5 [00:23<00:00,  4.62s/it]"
     ]
    },
    {
     "name": "stdout",
     "output_type": "stream",
     "text": [
      "Calculated from-scratch_234 on Mo_center: Energy = -354.328583 eV\n",
      "\n",
      "Energies (eV):\n",
      "structure          Mo_Fe_oct   Mo_Fe_tet   Mo_Ni_oct   Mo_center  \\\n",
      "model                                                              \n",
      "fine-tuned_234   -356.648066 -356.180362 -361.085897 -337.157884   \n",
      "from-scratch_234 -345.315367 -345.379974 -349.848032 -354.328583   \n",
      "large            -345.369541 -344.856983 -348.804229 -324.161344   \n",
      "mpa_0            -344.426656 -344.011199 -347.725423 -324.287445   \n",
      "small            -346.307420 -346.302990 -349.506957 -333.308963   \n",
      "\n",
      "structure         inverse_spinel    original  \n",
      "model                                         \n",
      "fine-tuned_234       -349.275401 -342.400382  \n",
      "from-scratch_234     -342.787040 -343.157695  \n",
      "large                -343.563568 -342.058469  \n",
      "mpa_0                -342.755972 -339.890929  \n",
      "small                -344.376916 -342.503358  \n",
      "\n",
      "Maximum Forces (eV/Å):\n",
      "structure         Mo_Fe_oct  Mo_Fe_tet  Mo_Ni_oct  Mo_center  inverse_spinel  \\\n",
      "model                                                                          \n",
      "fine-tuned_234     1.709831   3.510261   1.851020  18.636568        1.004888   \n",
      "from-scratch_234   0.099912   0.096865   0.089763   0.127989        0.052846   \n",
      "large              0.578836   0.698683   0.669928  14.426893        0.572354   \n",
      "mpa_0              1.036171   0.970328   1.159409  11.837202        0.924851   \n",
      "small              1.036838   0.938866   1.397959   8.178634        0.762405   \n",
      "\n",
      "structure         original  \n",
      "model                       \n",
      "fine-tuned_234    0.403483  \n",
      "from-scratch_234  0.049565  \n",
      "large             0.160615  \n",
      "mpa_0             0.109734  \n",
      "small             0.181631  \n",
      "\n",
      "Mean Forces (eV/Å):\n",
      "structure         Mo_Fe_oct  Mo_Fe_tet  Mo_Ni_oct  Mo_center  inverse_spinel  \\\n",
      "model                                                                          \n",
      "fine-tuned_234     0.526103   0.656728   0.566134   2.530018        0.355102   \n",
      "from-scratch_234   0.030340   0.029389   0.029072   0.027549        0.020991   \n",
      "large              0.270323   0.245194   0.255002   2.072241        0.250134   \n",
      "mpa_0              0.442998   0.387705   0.448101   1.733749        0.388604   \n",
      "small              0.399729   0.318799   0.405562   1.429667        0.334306   \n",
      "\n",
      "structure         original  \n",
      "model                       \n",
      "fine-tuned_234    0.230562  \n",
      "from-scratch_234  0.028323  \n",
      "large             0.091780  \n",
      "mpa_0             0.062705  \n",
      "small             0.103789  \n"
     ]
    },
    {
     "name": "stderr",
     "output_type": "stream",
     "text": [
      "\n"
     ]
    }
   ],
   "source": [
    "# List of all your models\n",
    "models = {\n",
    "    \"large\": calc_large,\n",
    "    \"small\": calc_small,\n",
    "    \"mpa_0\": mace_mpa_0,\n",
    "    \"fine-tuned_234\": naive_234,\n",
    "    \"from-scratch_234\": scratch_234_avg\n",
    "}\n",
    "\n",
    "# List of all your structures\n",
    "structures = {\n",
    "    \"original\": org_struct,\n",
    "    \"inverse_spinel\": inv_struct,\n",
    "    \"Mo_Fe_oct\": Mo_Fe_oct_inv_struct,\n",
    "    \"Mo_Fe_tet\": Mo_Fe_tet_inv_struct,\n",
    "    \"Mo_Ni_oct\": Mo_Ni_oct_inv_struct,\n",
    "    \"Mo_center\": Mo_interstitial_inv_struct\n",
    "}\n",
    "\n",
    "# Modified get_energy function to suppress print statements\n",
    "def get_energy_silent(mace_model, ase_obj):\n",
    "    ase_obj.calc = mace_model\n",
    "    energy = ase_obj.get_potential_energy()\n",
    "    node_contributions = mace_model.results[\"node_energy\"]\n",
    "    forces = ase_obj.get_forces()\n",
    "    return energy, node_contributions, forces\n",
    "\n",
    "# Store results\n",
    "results = {}\n",
    "\n",
    "# Loop through all models and structures\n",
    "for model_name, model in tqdm(models.items(), desc=\"Processing models\"):\n",
    "    for struct_name, struct in structures.items():\n",
    "        try:\n",
    "            energy, node_energy, forces = get_energy_silent(model, struct)\n",
    "            key = f\"{model_name}_{struct_name}\"\n",
    "            results[key] = {\n",
    "                \"model\": model_name,\n",
    "                \"structure\": struct_name,\n",
    "                \"energy\": energy,\n",
    "                \"max_force\": np.abs(forces).max(),\n",
    "                \"mean_force\": np.abs(forces).mean()\n",
    "            }\n",
    "            print(f\"Calculated {model_name} on {struct_name}: Energy = {energy:.6f} eV\")\n",
    "        except Exception as e:\n",
    "            print(f\"Error with {model_name} on {struct_name}: {str(e)}\")\n",
    "            results[f\"{model_name}_{struct_name}\"] = {\n",
    "                \"model\": model_name,\n",
    "                \"structure\": struct_name,\n",
    "                \"energy\": None,\n",
    "                \"max_force\": None,\n",
    "                \"mean_force\": None\n",
    "            }\n",
    "\n",
    "# Convert results to DataFrame\n",
    "results_df = pd.DataFrame(results.values())\n",
    "\n",
    "# Pivot the DataFrame for better visualization\n",
    "energy_pivot = results_df.pivot(index='model', columns='structure', values='energy')\n",
    "force_max_pivot = results_df.pivot(index='model', columns='structure', values='max_force')\n",
    "force_mean_pivot = results_df.pivot(index='model', columns='structure', values='mean_force')\n",
    "\n",
    "# Display the results\n",
    "print(\"\\nEnergies (eV):\")\n",
    "print(energy_pivot)\n",
    "\n",
    "print(\"\\nMaximum Forces (eV/Å):\")\n",
    "print(force_max_pivot)\n",
    "\n",
    "print(\"\\nMean Forces (eV/Å):\")\n",
    "print(force_mean_pivot)\n",
    "\n",
    "# Save the results to CSV files\n",
    "energy_pivot.to_csv(\"limited_study_model_structure_energies.csv\")\n",
    "force_max_pivot.to_csv(\"limited_study_model_structure_max_forces.csv\")\n",
    "force_mean_pivot.to_csv(\"limited_study_model_structure_mean_forces.csv\")\n",
    "results_df.to_csv(\"limited_study_model_structure_all_results.csv\", index=False)"
   ]
  },
  {
   "cell_type": "markdown",
   "metadata": {},
   "source": [
    "## Geometry Optimization with BFGS and FIRE algorithms"
   ]
  },
  {
   "cell_type": "markdown",
   "metadata": {},
   "source": [
    "The Fast Inertial Relaxation Engine (FIRE) && Broyden–Fletcher–Goldfarb–Shanno (BFGS) "
   ]
  },
  {
   "cell_type": "code",
   "execution_count": 13,
   "metadata": {},
   "outputs": [
    {
     "name": "stderr",
     "output_type": "stream",
     "text": [
      "/Users/soni_aman/anaconda3/envs/thesis_all/lib/python3.13/site-packages/pymatgen/io/cif.py:765: UserWarning: No _symmetry_equiv_pos_as_xyz type key found. Spacegroup from _symmetry_space_group_name_H-M used.\n",
      "  warnings.warn(msg)\n",
      "/Users/soni_aman/anaconda3/envs/thesis_all/lib/python3.13/site-packages/pymatgen/io/cif.py:1290: UserWarning: Issues encountered while parsing CIF: No _symmetry_equiv_pos_as_xyz type key found. Spacegroup from _symmetry_space_group_name_H-M used.\n",
      "  warnings.warn(\"Issues encountered while parsing CIF: \" + \"\\n\".join(self.warnings))\n",
      "/Users/soni_aman/anaconda3/envs/thesis_all/lib/python3.13/site-packages/mace/calculators/mace.py:139: UserWarning: Environment variable TORCH_FORCE_NO_WEIGHTS_ONLY_LOAD detected, since the`weights_only` argument was not explicitly passed to `torch.load`, forcing weights_only=False.\n",
      "  torch.load(f=model_path, map_location=device)\n",
      "/Users/soni_aman/anaconda3/envs/thesis_all/lib/python3.13/site-packages/torch/serialization.py:1434: UserWarning: 'torch.load' received a zip file that looks like a TorchScript archive dispatching to 'torch.jit.load' (call 'torch.jit.load' directly to silence this warning)\n",
      "  warnings.warn(\n"
     ]
    },
    {
     "name": "stdout",
     "output_type": "stream",
     "text": [
      "      Step     Time          Energy          fmax\n",
      "FIRE:    0 13:25:23     -417.477082        0.783599\n",
      "FIRE:    1 13:25:24     -417.566376        0.848986\n",
      "FIRE:    2 13:25:25     -417.769179        1.019376\n",
      "FIRE:    3 13:25:25     -418.158827        1.026326\n",
      "FIRE:    4 13:25:26     -418.574100        0.853010\n",
      "FIRE:    5 13:25:27     -418.542114        1.503242\n",
      "FIRE:    6 13:25:27     -418.595044        1.319539\n",
      "FIRE:    7 13:25:28     -418.678339        1.005083\n",
      "FIRE:    8 13:25:28     -418.760842        0.632705\n",
      "FIRE:    9 13:25:29     -418.817864        0.280149\n",
      "FIRE:   10 13:25:30     -418.838976        0.208695\n",
      "FIRE:   11 13:25:30     -418.831278        0.386121\n",
      "FIRE:   12 13:25:31     -418.832392        0.378818\n",
      "FIRE:   13 13:25:32     -418.834530        0.364309\n",
      "FIRE:   14 13:25:33     -418.837524        0.342795\n",
      "FIRE:   15 13:25:33     -418.841134        0.314590\n",
      "FIRE:   16 13:25:34     -418.845075        0.280133\n",
      "FIRE:   17 13:25:34     -418.849033        0.240010\n",
      "FIRE:   18 13:25:35     -418.852701        0.194986\n",
      "FIRE:   19 13:25:36     -418.856086        0.140755\n",
      "FIRE:   20 13:25:36     -418.858692        0.077811\n",
      "FIRE:   21 13:25:37     -418.860038        0.067780\n",
      "FIRE:   22 13:25:38     -418.860017        0.071305\n",
      "FIRE:   23 13:25:38     -418.860072        0.070410\n",
      "FIRE:   24 13:25:39     -418.860180        0.068633\n",
      "FIRE:   25 13:25:39     -418.860336        0.066005\n",
      "FIRE:   26 13:25:40     -418.860534        0.063063\n",
      "FIRE:   27 13:25:41     -418.860765        0.059836\n",
      "FIRE:   28 13:25:41     -418.861021        0.056093\n",
      "FIRE:   29 13:25:42     -418.861292        0.054730\n",
      "FIRE:   30 13:25:43     -418.861598        0.054080\n",
      "FIRE:   31 13:25:43     -418.861928        0.053187\n",
      "FIRE:   32 13:25:44     -418.862268        0.051952\n",
      "FIRE:   33 13:25:44     -418.862599        0.050238\n",
      "FIRE:   34 13:25:45     -418.862903        0.047864\n",
      "FIRE:   35 13:25:46     -418.863177        0.044634\n",
      "FIRE:   36 13:25:46     -418.863437        0.040787\n",
      "FIRE:   37 13:25:47     -418.863721        0.048396\n",
      "FIRE:   38 13:25:47     -418.864071        0.051662\n",
      "FIRE:   39 13:25:48     -418.864508        0.049319\n",
      "FIRE:   40 13:25:49     -418.865002        0.040503\n",
      "FIRE:   41 13:25:49     -418.865456        0.025356\n",
      "FIRE:   42 13:25:50     -418.865755        0.021796\n",
      "FIRE:   43 13:25:50     -418.865909        0.031097\n",
      "FIRE:   44 13:25:51     -418.866073        0.033487\n",
      "FIRE:   45 13:25:52     -418.866327        0.027320\n",
      "FIRE:   46 13:25:52     -418.866516        0.016737\n",
      "FIRE:   47 13:25:53     -418.866488        0.024913\n",
      "FIRE:   48 13:25:54     -418.866522        0.022922\n",
      "FIRE:   49 13:25:54     -418.866579        0.019166\n",
      "FIRE:   50 13:25:55     -418.866645        0.016366\n",
      "FIRE:   51 13:25:55     -418.866704        0.013583\n",
      "FIRE:   52 13:25:56     -418.866750        0.011628\n",
      "FIRE:   53 13:25:56     -418.866784        0.011308\n",
      "FIRE:   54 13:25:57     -418.866816        0.013095\n",
      "FIRE:   55 13:25:58     -418.866856        0.013262\n",
      "FIRE:   56 13:25:58     -418.866904        0.010672\n",
      "FIRE:   57 13:25:59     -418.866943        0.005247\n",
      "FIRE:   58 13:25:59     -418.866950        0.004867\n",
      "FIRE:   59 13:26:00     -418.866951        0.004641\n",
      "FIRE:   60 13:26:01     -418.866952        0.004200\n",
      "FIRE:   61 13:26:01     -418.866954        0.003571\n",
      "FIRE:   62 13:26:02     -418.866955        0.002791\n",
      "FIRE:   63 13:26:02     -418.866957        0.002529\n",
      "FIRE:   64 13:26:03     -418.866958        0.002312\n",
      "FIRE:   65 13:26:04     -418.866959        0.002074\n",
      "FIRE:   66 13:26:04     -418.866960        0.001819\n",
      "FIRE:   67 13:26:05     -418.866960        0.001864\n",
      "FIRE:   68 13:26:05     -418.866961        0.001864\n",
      "FIRE:   69 13:26:06     -418.866962        0.001736\n",
      "FIRE:   70 13:26:07     -418.866963        0.001324\n",
      "FIRE:   71 13:26:07     -418.866964        0.001082\n",
      "FIRE:   72 13:26:08     -418.866964        0.001283\n",
      "FIRE:   73 13:26:09     -418.866964        0.001234\n",
      "FIRE:   74 13:26:09     -418.866965        0.001138\n",
      "FIRE:   75 13:26:10     -418.866965        0.001001\n",
      "FIRE:   76 13:26:10     -418.866965        0.000873\n",
      "FIRE:   77 13:26:11     -418.866965        0.000738\n",
      "FIRE:   78 13:26:11     -418.866965        0.000658\n",
      "FIRE:   79 13:26:12     -418.866965        0.000654\n",
      "FIRE:   80 13:26:13     -418.866965        0.000657\n",
      "FIRE:   81 13:26:13     -418.866965        0.000649\n",
      "FIRE:   82 13:26:14     -418.866966        0.000607\n",
      "FIRE:   83 13:26:15     -418.866966        0.000617\n",
      "FIRE:   84 13:26:15     -418.866966        0.000568\n",
      "FIRE:   85 13:26:16     -418.866966        0.000516\n",
      "FIRE:   86 13:26:17     -418.866966        0.000540\n",
      "FIRE:   87 13:26:17     -418.866966        0.000574\n",
      "FIRE:   88 13:26:18     -418.866966        0.000485\n",
      "FIRE:   89 13:26:19     -418.866966        0.000379\n",
      "FIRE:   90 13:26:19     -418.866966        0.000316\n",
      "FIRE:   91 13:26:20     -418.866966        0.000292\n",
      "FIRE:   92 13:26:21     -418.866966        0.000248\n",
      "FIRE:   93 13:26:21     -418.866966        0.000230\n",
      "FIRE:   94 13:26:22     -418.866966        0.000216\n",
      "FIRE:   95 13:26:23     -418.866966        0.000198\n",
      "FIRE:   96 13:26:23     -418.866966        0.000176\n",
      "FIRE:   97 13:26:24     -418.866966        0.000154\n",
      "FIRE:   98 13:26:25     -418.866966        0.000147\n",
      "FIRE:   99 13:26:25     -418.866966        0.000112\n",
      "FIRE:  100 13:26:26     -418.866966        0.000079\n",
      "FIRE optimization completed in 64.49506211280823 seconds!\n",
      "Final energy: -418.86696633911475 eV\n",
      "Max force: 6.615663722642218e-05 eV/Å\n"
     ]
    }
   ],
   "source": [
    "from ase.optimize import BFGS, FIRE\n",
    "from ase.io import read, write\n",
    "import time\n",
    "\n",
    "inv_struct = Structure.from_file(\"/Users/soni_aman/Documents/Master Thesis/Sir_Sihna_Sign/Fine_tune_dir/Fine_Tuned_Calculations/inv_spinel_NiFe2O4.cif\")\n",
    "\n",
    "ase_atoms_obj = AseAtomsAdaptor.get_atoms(inv_struct)\n",
    "\n",
    "# Assign MACE as the interatomic potential\n",
    "naive_314 = MACECalculator(model_paths=\"/Users/soni_aman/Documents/Master Thesis/Sir_Sihna_Sign/Fine_tune_dir/Models/naive_314_compiled.model\", device=\"cpu\", default_dtype=\"float64\")\n",
    "\n",
    "ase_atoms_obj.calc = naive_314\n",
    "\n",
    "start = time.time()\n",
    "\n",
    "# Run FIRE optimization\n",
    "opt = FIRE(ase_atoms_obj, trajectory=\"inv_spinel_fine_tuned.traj\")\n",
    "opt.run(fmax=0.0001)\n",
    "\n",
    "# Save optimized structure\n",
    "write(\"fine_tuned_optimized.cif\", ase_atoms_obj)\n",
    "end = time.time()\n",
    "\n",
    "print(f\"FIRE optimization completed in {end - start} seconds!\")\n",
    "\n",
    "print(f\"Final energy: {ase_atoms_obj.get_potential_energy()} eV\")\n",
    "print(f\"Max force: {max(np.abs(ase_atoms_obj.get_forces().flatten()))} eV/Å\")"
   ]
  },
  {
   "cell_type": "markdown",
   "metadata": {},
   "source": [
    "## Simulating Molecular Dynamics using the MACE potential"
   ]
  },
  {
   "cell_type": "code",
   "execution_count": 18,
   "metadata": {},
   "outputs": [],
   "source": [
    "from ase import units\n",
    "from ase.md.langevin import Langevin\n",
    "from ase.md.velocitydistribution import Stationary, ZeroRotation, MaxwellBoltzmannDistribution\n",
    "\n",
    "import random\n",
    "import os\n",
    "import time\n",
    "import pylab as pl\n",
    "from IPython import display\n",
    "\n",
    "def simpleMD(init_conf, temp, calc, fname, s, T):\n",
    "    init_conf.set_calculator(calc)\n",
    "\n",
    "    #initialize the temperature\n",
    "    random.seed(701) #just making sure the MD failure is reproducible\n",
    "    MaxwellBoltzmannDistribution(init_conf, temperature_K=300) #initialize temperature at 300\n",
    "    Stationary(init_conf)\n",
    "    ZeroRotation(init_conf)\n",
    "\n",
    "    dyn = Langevin(init_conf, 1.0*units.fs, temperature_K=temp, friction=0.1) #drive system to desired temperature\n",
    "\n",
    "#     %matplotlib inline\n",
    "\n",
    "    time_fs = []\n",
    "    temperature = []\n",
    "    energies = []\n",
    "\n",
    "    #remove previously stored trajectory with the same name\n",
    "    os.system('rm -rfv '+fname)\n",
    "\n",
    "    fig, ax = pl.subplots(2, 1, figsize=(6,6), sharex='all', gridspec_kw={'hspace': 0, 'wspace': 0})\n",
    "\n",
    "    def write_frame():\n",
    "            dyn.atoms.write(fname, append=True)\n",
    "            time_fs.append(dyn.get_time()/units.fs)\n",
    "            temperature.append(dyn.atoms.get_temperature())\n",
    "            energies.append(dyn.atoms.get_potential_energy()/len(dyn.atoms))\n",
    "\n",
    "            ax[0].plot(np.array(time_fs), np.array(energies), color=\"b\")\n",
    "            ax[0].set_ylabel('E (eV/atom)')\n",
    "\n",
    "            # plot the temperature of the system as subplots\n",
    "            ax[1].plot(np.array(time_fs), temperature, color=\"r\")\n",
    "            ax[1].set_ylabel('T (K)')\n",
    "            ax[1].set_xlabel('Time (fs)')\n",
    "\n",
    "            display.clear_output(wait=True)\n",
    "            display.display(pl.gcf())\n",
    "            time.sleep(0.01)\n",
    "\n",
    "    dyn.attach(write_frame, interval=s)\n",
    "    t0 = time.time()\n",
    "    dyn.run(T)\n",
    "    t1 = time.time()\n",
    "    print(\"MD finished in {0:.2f} minutes!\".format((t1-t0)/60))"
   ]
  },
  {
   "cell_type": "code",
   "execution_count": 19,
   "metadata": {},
   "outputs": [
    {
     "data": {
      "image/png": "[encoded data removed]",
      "text/plain": [
       "<Figure size 600x600 with 2 Axes>"
      ]
     },
     "metadata": {},
     "output_type": "display_data"
    },
    {
     "name": "stdout",
     "output_type": "stream",
     "text": [
      "MD finished in 2.18 minutes!\n"
     ]
    },
    {
     "data": {
      "image/png": "[encoded data removed]",
      "text/plain": [
       "<Figure size 600x600 with 2 Axes>"
      ]
     },
     "metadata": {},
     "output_type": "display_data"
    }
   ],
   "source": [
    "mace_calc = naive_234\n",
    "\n",
    "simpleMD(ase_atoms_obj, temp=1200, calc=mace_calc, fname='mace_234_md.xyz', s=10, T=200)"
   ]
  },
  {
   "cell_type": "code",
   "execution_count": null,
   "metadata": {},
   "outputs": [],
   "source": [
    "# reinitialize the original config\n",
    "ase_atoms_obj = inv_struct\n",
    "\n",
    "from xtb.ase.calculator import XTB\n",
    "xtb_calc = XTB(method=\"GFN2-xTB\")\n",
    "\n",
    "simpleMD(ase_atoms_obj, temp=1200, calc=xtb_calc, fname='moldyn/xtb_md.xyz', s=10, T=200)"
   ]
  },
  {
   "cell_type": "markdown",
   "metadata": {},
   "source": [
    "To visualize the trajectory here you can use `nglviewer`. \n",
    "\n",
    "Alternatively you can use `ovito` through the `Launcher`."
   ]
  },
  {
   "cell_type": "markdown",
   "metadata": {},
   "source": []
  }
 ],
 "metadata": {
  "kernelspec": {
   "display_name": "thesis_all",
   "language": "python",
   "name": "python3"
  },
  "language_info": {
   "codemirror_mode": {
    "name": "ipython",
    "version": 3
   },
   "file_extension": ".py",
   "mimetype": "text/x-python",
   "name": "python",
   "nbconvert_exporter": "python",
   "pygments_lexer": "ipython3",
   "version": "3.13.2"
  }
 },
 "nbformat": 4,
 "nbformat_minor": 2
}
