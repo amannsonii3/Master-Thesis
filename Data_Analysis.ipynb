{
 "cells": [
  {
   "cell_type": "code",
   "execution_count": 1,
   "id": "2c199693",
   "metadata": {},
   "outputs": [],
   "source": [
    "import pandas as pd\n",
    "import numpy as np\n",
    "\n",
    "energies_data_df = pd.read_csv(\"/Users/soni_aman/Documents/Master Thesis/Sir_Sihna_Sign/Fine_tune_dir/Fine_Tuned_Calculations/model_structure_energies.csv\")"
   ]
  },
  {
   "cell_type": "code",
   "execution_count": 2,
   "id": "47fb6e40",
   "metadata": {},
   "outputs": [
    {
     "data": {
      "text/html": [
       "<div>\n",
       "<style scoped>\n",
       "    .dataframe tbody tr th:only-of-type {\n",
       "        vertical-align: middle;\n",
       "    }\n",
       "\n",
       "    .dataframe tbody tr th {\n",
       "        vertical-align: top;\n",
       "    }\n",
       "\n",
       "    .dataframe thead th {\n",
       "        text-align: right;\n",
       "    }\n",
       "</style>\n",
       "<table border=\"1\" class=\"dataframe\">\n",
       "  <thead>\n",
       "    <tr style=\"text-align: right;\">\n",
       "      <th></th>\n",
       "      <th>model</th>\n",
       "      <th>Fe_only</th>\n",
       "      <th>Mo_Fe_oct</th>\n",
       "      <th>Mo_Fe_tet</th>\n",
       "      <th>Mo_Ni_oct</th>\n",
       "      <th>Mo_center</th>\n",
       "      <th>Mo_only</th>\n",
       "      <th>Ni_only</th>\n",
       "      <th>inverse_spinel</th>\n",
       "      <th>original</th>\n",
       "    </tr>\n",
       "  </thead>\n",
       "  <tbody>\n",
       "    <tr>\n",
       "      <th>0</th>\n",
       "      <td>fine-tuned_210_100</td>\n",
       "      <td>-33.635398</td>\n",
       "      <td>NaN</td>\n",
       "      <td>NaN</td>\n",
       "      <td>NaN</td>\n",
       "      <td>NaN</td>\n",
       "      <td>NaN</td>\n",
       "      <td>-23.242960</td>\n",
       "      <td>-423.548547</td>\n",
       "      <td>-419.258733</td>\n",
       "    </tr>\n",
       "    <tr>\n",
       "      <th>1</th>\n",
       "      <td>fine-tuned_210_30</td>\n",
       "      <td>-33.635398</td>\n",
       "      <td>NaN</td>\n",
       "      <td>NaN</td>\n",
       "      <td>NaN</td>\n",
       "      <td>NaN</td>\n",
       "      <td>NaN</td>\n",
       "      <td>-23.242960</td>\n",
       "      <td>-423.548547</td>\n",
       "      <td>-419.258733</td>\n",
       "    </tr>\n",
       "    <tr>\n",
       "      <th>2</th>\n",
       "      <td>fine-tuned_234</td>\n",
       "      <td>-33.284860</td>\n",
       "      <td>-356.648066</td>\n",
       "      <td>-356.180362</td>\n",
       "      <td>-361.085897</td>\n",
       "      <td>-337.157884</td>\n",
       "      <td>-40.988688</td>\n",
       "      <td>-23.430286</td>\n",
       "      <td>-349.275401</td>\n",
       "      <td>-342.400382</td>\n",
       "    </tr>\n",
       "    <tr>\n",
       "      <th>3</th>\n",
       "      <td>fine-tuned_314</td>\n",
       "      <td>-34.517072</td>\n",
       "      <td>-422.189465</td>\n",
       "      <td>-421.419356</td>\n",
       "      <td>-426.487051</td>\n",
       "      <td>-401.211121</td>\n",
       "      <td>-42.179817</td>\n",
       "      <td>-24.618802</td>\n",
       "      <td>-417.477082</td>\n",
       "      <td>-410.931647</td>\n",
       "    </tr>\n",
       "    <tr>\n",
       "      <th>4</th>\n",
       "      <td>from-scratch_234</td>\n",
       "      <td>-37.085006</td>\n",
       "      <td>-345.315367</td>\n",
       "      <td>-345.379974</td>\n",
       "      <td>-349.848032</td>\n",
       "      <td>-354.328583</td>\n",
       "      <td>-46.431824</td>\n",
       "      <td>-17.721183</td>\n",
       "      <td>-342.787040</td>\n",
       "      <td>-343.157695</td>\n",
       "    </tr>\n",
       "    <tr>\n",
       "      <th>5</th>\n",
       "      <td>from-scratch_314</td>\n",
       "      <td>-34.284959</td>\n",
       "      <td>-410.092779</td>\n",
       "      <td>-410.324117</td>\n",
       "      <td>-414.693466</td>\n",
       "      <td>-419.650452</td>\n",
       "      <td>-45.710938</td>\n",
       "      <td>-21.513074</td>\n",
       "      <td>-408.198581</td>\n",
       "      <td>-408.626907</td>\n",
       "    </tr>\n",
       "    <tr>\n",
       "      <th>6</th>\n",
       "      <td>large</td>\n",
       "      <td>-33.405993</td>\n",
       "      <td>-345.369541</td>\n",
       "      <td>-344.856983</td>\n",
       "      <td>-348.804229</td>\n",
       "      <td>-324.161344</td>\n",
       "      <td>-42.063383</td>\n",
       "      <td>-22.972456</td>\n",
       "      <td>-343.563568</td>\n",
       "      <td>-342.058469</td>\n",
       "    </tr>\n",
       "    <tr>\n",
       "      <th>7</th>\n",
       "      <td>mpa_0</td>\n",
       "      <td>-33.392808</td>\n",
       "      <td>-344.426656</td>\n",
       "      <td>-344.011199</td>\n",
       "      <td>-347.725423</td>\n",
       "      <td>-324.287445</td>\n",
       "      <td>-41.266564</td>\n",
       "      <td>-23.142735</td>\n",
       "      <td>-342.755972</td>\n",
       "      <td>-339.890929</td>\n",
       "    </tr>\n",
       "    <tr>\n",
       "      <th>8</th>\n",
       "      <td>small</td>\n",
       "      <td>-33.596174</td>\n",
       "      <td>-346.307420</td>\n",
       "      <td>-346.302990</td>\n",
       "      <td>-349.506957</td>\n",
       "      <td>-333.308963</td>\n",
       "      <td>-42.134410</td>\n",
       "      <td>-22.919453</td>\n",
       "      <td>-344.376916</td>\n",
       "      <td>-342.503358</td>\n",
       "    </tr>\n",
       "  </tbody>\n",
       "</table>\n",
       "</div>"
      ],
      "text/plain": [
       "                model    Fe_only   Mo_Fe_oct   Mo_Fe_tet   Mo_Ni_oct  \\\n",
       "0  fine-tuned_210_100 -33.635398         NaN         NaN         NaN   \n",
       "1   fine-tuned_210_30 -33.635398         NaN         NaN         NaN   \n",
       "2      fine-tuned_234 -33.284860 -356.648066 -356.180362 -361.085897   \n",
       "3      fine-tuned_314 -34.517072 -422.189465 -421.419356 -426.487051   \n",
       "4    from-scratch_234 -37.085006 -345.315367 -345.379974 -349.848032   \n",
       "5    from-scratch_314 -34.284959 -410.092779 -410.324117 -414.693466   \n",
       "6               large -33.405993 -345.369541 -344.856983 -348.804229   \n",
       "7               mpa_0 -33.392808 -344.426656 -344.011199 -347.725423   \n",
       "8               small -33.596174 -346.307420 -346.302990 -349.506957   \n",
       "\n",
       "    Mo_center    Mo_only    Ni_only  inverse_spinel    original  \n",
       "0         NaN        NaN -23.242960     -423.548547 -419.258733  \n",
       "1         NaN        NaN -23.242960     -423.548547 -419.258733  \n",
       "2 -337.157884 -40.988688 -23.430286     -349.275401 -342.400382  \n",
       "3 -401.211121 -42.179817 -24.618802     -417.477082 -410.931647  \n",
       "4 -354.328583 -46.431824 -17.721183     -342.787040 -343.157695  \n",
       "5 -419.650452 -45.710938 -21.513074     -408.198581 -408.626907  \n",
       "6 -324.161344 -42.063383 -22.972456     -343.563568 -342.058469  \n",
       "7 -324.287445 -41.266564 -23.142735     -342.755972 -339.890929  \n",
       "8 -333.308963 -42.134410 -22.919453     -344.376916 -342.503358  "
      ]
     },
     "execution_count": 2,
     "metadata": {},
     "output_type": "execute_result"
    }
   ],
   "source": [
    "energies_data_df"
   ]
  },
  {
   "cell_type": "markdown",
   "id": "f21a6485",
   "metadata": {},
   "source": [
    "Adding reference row from VASP DFT computed results"
   ]
  },
  {
   "cell_type": "code",
   "execution_count": 3,
   "id": "6cbbd799",
   "metadata": {},
   "outputs": [
    {
     "data": {
      "text/html": [
       "<div>\n",
       "<style scoped>\n",
       "    .dataframe tbody tr th:only-of-type {\n",
       "        vertical-align: middle;\n",
       "    }\n",
       "\n",
       "    .dataframe tbody tr th {\n",
       "        vertical-align: top;\n",
       "    }\n",
       "\n",
       "    .dataframe thead th {\n",
       "        text-align: right;\n",
       "    }\n",
       "</style>\n",
       "<table border=\"1\" class=\"dataframe\">\n",
       "  <thead>\n",
       "    <tr style=\"text-align: right;\">\n",
       "      <th></th>\n",
       "      <th>model</th>\n",
       "      <th>Fe_only</th>\n",
       "      <th>Mo_Fe_oct</th>\n",
       "      <th>Mo_Fe_tet</th>\n",
       "      <th>Mo_Ni_oct</th>\n",
       "      <th>Mo_center</th>\n",
       "      <th>Mo_only</th>\n",
       "      <th>Ni_only</th>\n",
       "      <th>inverse_spinel</th>\n",
       "      <th>original</th>\n",
       "    </tr>\n",
       "  </thead>\n",
       "  <tbody>\n",
       "    <tr>\n",
       "      <th>0</th>\n",
       "      <td>fine-tuned_210_100</td>\n",
       "      <td>-33.635398</td>\n",
       "      <td>NaN</td>\n",
       "      <td>NaN</td>\n",
       "      <td>NaN</td>\n",
       "      <td>NaN</td>\n",
       "      <td>NaN</td>\n",
       "      <td>-23.242960</td>\n",
       "      <td>-423.548547</td>\n",
       "      <td>-419.258733</td>\n",
       "    </tr>\n",
       "    <tr>\n",
       "      <th>1</th>\n",
       "      <td>fine-tuned_210_30</td>\n",
       "      <td>-33.635398</td>\n",
       "      <td>NaN</td>\n",
       "      <td>NaN</td>\n",
       "      <td>NaN</td>\n",
       "      <td>NaN</td>\n",
       "      <td>NaN</td>\n",
       "      <td>-23.242960</td>\n",
       "      <td>-423.548547</td>\n",
       "      <td>-419.258733</td>\n",
       "    </tr>\n",
       "    <tr>\n",
       "      <th>2</th>\n",
       "      <td>fine-tuned_234</td>\n",
       "      <td>-33.284860</td>\n",
       "      <td>-356.648066</td>\n",
       "      <td>-356.180362</td>\n",
       "      <td>-361.085897</td>\n",
       "      <td>-337.157884</td>\n",
       "      <td>-40.988688</td>\n",
       "      <td>-23.430286</td>\n",
       "      <td>-349.275401</td>\n",
       "      <td>-342.400382</td>\n",
       "    </tr>\n",
       "    <tr>\n",
       "      <th>3</th>\n",
       "      <td>fine-tuned_314</td>\n",
       "      <td>-34.517072</td>\n",
       "      <td>-422.189465</td>\n",
       "      <td>-421.419356</td>\n",
       "      <td>-426.487051</td>\n",
       "      <td>-401.211121</td>\n",
       "      <td>-42.179817</td>\n",
       "      <td>-24.618802</td>\n",
       "      <td>-417.477082</td>\n",
       "      <td>-410.931647</td>\n",
       "    </tr>\n",
       "    <tr>\n",
       "      <th>4</th>\n",
       "      <td>from-scratch_234</td>\n",
       "      <td>-37.085006</td>\n",
       "      <td>-345.315367</td>\n",
       "      <td>-345.379974</td>\n",
       "      <td>-349.848032</td>\n",
       "      <td>-354.328583</td>\n",
       "      <td>-46.431824</td>\n",
       "      <td>-17.721183</td>\n",
       "      <td>-342.787040</td>\n",
       "      <td>-343.157695</td>\n",
       "    </tr>\n",
       "    <tr>\n",
       "      <th>5</th>\n",
       "      <td>from-scratch_314</td>\n",
       "      <td>-34.284959</td>\n",
       "      <td>-410.092779</td>\n",
       "      <td>-410.324117</td>\n",
       "      <td>-414.693466</td>\n",
       "      <td>-419.650452</td>\n",
       "      <td>-45.710938</td>\n",
       "      <td>-21.513074</td>\n",
       "      <td>-408.198581</td>\n",
       "      <td>-408.626907</td>\n",
       "    </tr>\n",
       "    <tr>\n",
       "      <th>6</th>\n",
       "      <td>large</td>\n",
       "      <td>-33.405993</td>\n",
       "      <td>-345.369541</td>\n",
       "      <td>-344.856983</td>\n",
       "      <td>-348.804229</td>\n",
       "      <td>-324.161344</td>\n",
       "      <td>-42.063383</td>\n",
       "      <td>-22.972456</td>\n",
       "      <td>-343.563568</td>\n",
       "      <td>-342.058469</td>\n",
       "    </tr>\n",
       "    <tr>\n",
       "      <th>7</th>\n",
       "      <td>mpa_0</td>\n",
       "      <td>-33.392808</td>\n",
       "      <td>-344.426656</td>\n",
       "      <td>-344.011199</td>\n",
       "      <td>-347.725423</td>\n",
       "      <td>-324.287445</td>\n",
       "      <td>-41.266564</td>\n",
       "      <td>-23.142735</td>\n",
       "      <td>-342.755972</td>\n",
       "      <td>-339.890929</td>\n",
       "    </tr>\n",
       "    <tr>\n",
       "      <th>8</th>\n",
       "      <td>small</td>\n",
       "      <td>-33.596174</td>\n",
       "      <td>-346.307420</td>\n",
       "      <td>-346.302990</td>\n",
       "      <td>-349.506957</td>\n",
       "      <td>-333.308963</td>\n",
       "      <td>-42.134410</td>\n",
       "      <td>-22.919453</td>\n",
       "      <td>-344.376916</td>\n",
       "      <td>-342.503358</td>\n",
       "    </tr>\n",
       "    <tr>\n",
       "      <th>9</th>\n",
       "      <td>VASP DFT Reference</td>\n",
       "      <td>-31.436120</td>\n",
       "      <td>-401.461344</td>\n",
       "      <td>-400.619417</td>\n",
       "      <td>-404.506915</td>\n",
       "      <td>-380.270880</td>\n",
       "      <td>-41.266156</td>\n",
       "      <td>-21.214536</td>\n",
       "      <td>-397.373479</td>\n",
       "      <td>-393.276481</td>\n",
       "    </tr>\n",
       "  </tbody>\n",
       "</table>\n",
       "</div>"
      ],
      "text/plain": [
       "                model    Fe_only   Mo_Fe_oct   Mo_Fe_tet   Mo_Ni_oct  \\\n",
       "0  fine-tuned_210_100 -33.635398         NaN         NaN         NaN   \n",
       "1   fine-tuned_210_30 -33.635398         NaN         NaN         NaN   \n",
       "2      fine-tuned_234 -33.284860 -356.648066 -356.180362 -361.085897   \n",
       "3      fine-tuned_314 -34.517072 -422.189465 -421.419356 -426.487051   \n",
       "4    from-scratch_234 -37.085006 -345.315367 -345.379974 -349.848032   \n",
       "5    from-scratch_314 -34.284959 -410.092779 -410.324117 -414.693466   \n",
       "6               large -33.405993 -345.369541 -344.856983 -348.804229   \n",
       "7               mpa_0 -33.392808 -344.426656 -344.011199 -347.725423   \n",
       "8               small -33.596174 -346.307420 -346.302990 -349.506957   \n",
       "9  VASP DFT Reference -31.436120 -401.461344 -400.619417 -404.506915   \n",
       "\n",
       "    Mo_center    Mo_only    Ni_only  inverse_spinel    original  \n",
       "0         NaN        NaN -23.242960     -423.548547 -419.258733  \n",
       "1         NaN        NaN -23.242960     -423.548547 -419.258733  \n",
       "2 -337.157884 -40.988688 -23.430286     -349.275401 -342.400382  \n",
       "3 -401.211121 -42.179817 -24.618802     -417.477082 -410.931647  \n",
       "4 -354.328583 -46.431824 -17.721183     -342.787040 -343.157695  \n",
       "5 -419.650452 -45.710938 -21.513074     -408.198581 -408.626907  \n",
       "6 -324.161344 -42.063383 -22.972456     -343.563568 -342.058469  \n",
       "7 -324.287445 -41.266564 -23.142735     -342.755972 -339.890929  \n",
       "8 -333.308963 -42.134410 -22.919453     -344.376916 -342.503358  \n",
       "9 -380.270880 -41.266156 -21.214536     -397.373479 -393.276481  "
      ]
     },
     "execution_count": 3,
     "metadata": {},
     "output_type": "execute_result"
    }
   ],
   "source": [
    "# Create a new row as a dictionary to add anshu's entry to the DataFrame\n",
    "new_row = {\n",
    "    'model': 'VASP DFT Reference',\n",
    "    'Mo_center': -380.27088,\n",
    "    'Mo_Ni_oct': -404.506915,\n",
    "    'Mo_Fe_tet': -400.619417,\n",
    "    'Mo_Fe_oct': -401.461344,\n",
    "    'inverse_spinel': -397.373479,\n",
    "    'original': -393.276481, \n",
    "    'Fe_only':  -31.43612, # -7.859030,\n",
    "    'Ni_only':  -21.214536, # -5.303634,\n",
    "    'Mo_only':  -41.266156 # -10.316539\n",
    "    \n",
    "}\n",
    "\n",
    "energies_data_df = pd.concat([energies_data_df, pd.DataFrame([new_row])], ignore_index=True)\n",
    "energies_data_df"
   ]
  },
  {
   "cell_type": "markdown",
   "id": "a41f1aa4",
   "metadata": {},
   "source": [
    "Extracting models output data (rows) from the dataframe for comparision"
   ]
  },
  {
   "cell_type": "code",
   "execution_count": 4,
   "id": "e1c57f43",
   "metadata": {},
   "outputs": [
    {
     "data": {
      "text/html": [
       "<div>\n",
       "<style scoped>\n",
       "    .dataframe tbody tr th:only-of-type {\n",
       "        vertical-align: middle;\n",
       "    }\n",
       "\n",
       "    .dataframe tbody tr th {\n",
       "        vertical-align: top;\n",
       "    }\n",
       "\n",
       "    .dataframe thead th {\n",
       "        text-align: right;\n",
       "    }\n",
       "</style>\n",
       "<table border=\"1\" class=\"dataframe\">\n",
       "  <thead>\n",
       "    <tr style=\"text-align: right;\">\n",
       "      <th></th>\n",
       "      <th>model</th>\n",
       "      <th>Mo_center</th>\n",
       "      <th>Mo_Ni_oct</th>\n",
       "      <th>Mo_Fe_tet</th>\n",
       "      <th>Mo_Fe_oct</th>\n",
       "      <th>inverse_spinel</th>\n",
       "    </tr>\n",
       "  </thead>\n",
       "  <tbody>\n",
       "    <tr>\n",
       "      <th>0</th>\n",
       "      <td>mpa_0</td>\n",
       "      <td>-324.287445</td>\n",
       "      <td>-347.725423</td>\n",
       "      <td>-344.011199</td>\n",
       "      <td>-344.426656</td>\n",
       "      <td>-342.755972</td>\n",
       "    </tr>\n",
       "    <tr>\n",
       "      <th>1</th>\n",
       "      <td>VASP DFT Reference</td>\n",
       "      <td>-380.270880</td>\n",
       "      <td>-404.506915</td>\n",
       "      <td>-400.619417</td>\n",
       "      <td>-401.461344</td>\n",
       "      <td>-397.373479</td>\n",
       "    </tr>\n",
       "    <tr>\n",
       "      <th>2</th>\n",
       "      <td>fine-tuned_314</td>\n",
       "      <td>-401.211121</td>\n",
       "      <td>-426.487051</td>\n",
       "      <td>-421.419356</td>\n",
       "      <td>-422.189465</td>\n",
       "      <td>-417.477082</td>\n",
       "    </tr>\n",
       "    <tr>\n",
       "      <th>3</th>\n",
       "      <td>fine-tuned_234</td>\n",
       "      <td>-337.157884</td>\n",
       "      <td>-361.085897</td>\n",
       "      <td>-356.180362</td>\n",
       "      <td>-356.648066</td>\n",
       "      <td>-349.275401</td>\n",
       "    </tr>\n",
       "  </tbody>\n",
       "</table>\n",
       "</div>"
      ],
      "text/plain": [
       "                model   Mo_center   Mo_Ni_oct   Mo_Fe_tet   Mo_Fe_oct  \\\n",
       "0               mpa_0 -324.287445 -347.725423 -344.011199 -344.426656   \n",
       "1  VASP DFT Reference -380.270880 -404.506915 -400.619417 -401.461344   \n",
       "2      fine-tuned_314 -401.211121 -426.487051 -421.419356 -422.189465   \n",
       "3      fine-tuned_234 -337.157884 -361.085897 -356.180362 -356.648066   \n",
       "\n",
       "   inverse_spinel  \n",
       "0     -342.755972  \n",
       "1     -397.373479  \n",
       "2     -417.477082  \n",
       "3     -349.275401  "
      ]
     },
     "execution_count": 4,
     "metadata": {},
     "output_type": "execute_result"
    }
   ],
   "source": [
    "# List the specified structures for each model\n",
    "structures = ['Mo_center', 'Mo_Ni_oct', 'Mo_Fe_tet', 'Mo_Fe_oct', 'inverse_spinel']\n",
    "model_names = ['mpa_0', 'VASP DFT Reference', 'fine-tuned_314', 'fine-tuned_234']\n",
    "\n",
    "# Create a new DataFrame with just the models and structures we want\n",
    "result_df = pd.DataFrame()\n",
    "\n",
    "for model in model_names:\n",
    "    model_data = energies_data_df[energies_data_df['model'] == model]\n",
    "    if not model_data.empty:\n",
    "        # Extract just the columns we want\n",
    "        selected_data = model_data[['model'] + structures].copy()\n",
    "        result_df = pd.concat([result_df, selected_data], ignore_index=True)\n",
    "\n",
    "# Display the resulting DataFrame\n",
    "result_df"
   ]
  },
  {
   "cell_type": "markdown",
   "id": "bd72ba39",
   "metadata": {},
   "source": [
    "Calculating relative errors"
   ]
  },
  {
   "cell_type": "code",
   "execution_count": 5,
   "id": "64d31157",
   "metadata": {
    "vscode": {
     "languageId": "ruby"
    }
   },
   "outputs": [
    {
     "name": "stdout",
     "output_type": "stream",
     "text": [
      "Relative Errors (%) for all models compared to VASP DFT Reference:\n"
     ]
    },
    {
     "data": {
      "text/html": [
       "<div>\n",
       "<style scoped>\n",
       "    .dataframe tbody tr th:only-of-type {\n",
       "        vertical-align: middle;\n",
       "    }\n",
       "\n",
       "    .dataframe tbody tr th {\n",
       "        vertical-align: top;\n",
       "    }\n",
       "\n",
       "    .dataframe thead th {\n",
       "        text-align: right;\n",
       "    }\n",
       "</style>\n",
       "<table border=\"1\" class=\"dataframe\">\n",
       "  <thead>\n",
       "    <tr style=\"text-align: right;\">\n",
       "      <th></th>\n",
       "      <th>Model</th>\n",
       "      <th>Mo_center</th>\n",
       "      <th>Mo_Ni_oct</th>\n",
       "      <th>Mo_Fe_tet</th>\n",
       "      <th>Mo_Fe_oct</th>\n",
       "      <th>inverse_spinel</th>\n",
       "    </tr>\n",
       "  </thead>\n",
       "  <tbody>\n",
       "    <tr>\n",
       "      <th>0</th>\n",
       "      <td>mpa_0</td>\n",
       "      <td>14.721988</td>\n",
       "      <td>14.037212</td>\n",
       "      <td>14.130173</td>\n",
       "      <td>14.206769</td>\n",
       "      <td>13.744628</td>\n",
       "    </tr>\n",
       "    <tr>\n",
       "      <th>1</th>\n",
       "      <td>fine-tuned_314</td>\n",
       "      <td>5.506664</td>\n",
       "      <td>5.433810</td>\n",
       "      <td>5.191945</td>\n",
       "      <td>5.163167</td>\n",
       "      <td>5.059121</td>\n",
       "    </tr>\n",
       "    <tr>\n",
       "      <th>2</th>\n",
       "      <td>fine-tuned_234</td>\n",
       "      <td>11.337443</td>\n",
       "      <td>10.734308</td>\n",
       "      <td>11.092586</td>\n",
       "      <td>11.162539</td>\n",
       "      <td>12.103998</td>\n",
       "    </tr>\n",
       "  </tbody>\n",
       "</table>\n",
       "</div>"
      ],
      "text/plain": [
       "            Model  Mo_center  Mo_Ni_oct  Mo_Fe_tet  Mo_Fe_oct  inverse_spinel\n",
       "0           mpa_0  14.721988  14.037212  14.130173  14.206769       13.744628\n",
       "1  fine-tuned_314   5.506664   5.433810   5.191945   5.163167        5.059121\n",
       "2  fine-tuned_234  11.337443  10.734308  11.092586  11.162539       12.103998"
      ]
     },
     "execution_count": 5,
     "metadata": {},
     "output_type": "execute_result"
    }
   ],
   "source": [
    "# Define structures to compare\n",
    "structures = ['Mo_center', 'Mo_Ni_oct', 'Mo_Fe_tet', 'Mo_Fe_oct', 'inverse_spinel']\n",
    "\n",
    "# Get VASP DFT Reference data\n",
    "vasp_data = energies_data_df[energies_data_df['model'] == 'VASP DFT Reference'].iloc[0]\n",
    "\n",
    "# model_names = energies_data_df['model'].unique()\n",
    "model_names = ['mpa_0', 'fine-tuned_314', 'fine-tuned_234']\n",
    "model_names = [name for name in model_names if name != 'VASP DFT Reference']\n",
    "\n",
    "# Calculate relative errors for all models\n",
    "all_relative_errors = {}\n",
    "\n",
    "for model_name in model_names:\n",
    "    model_data_row = energies_data_df[energies_data_df['model'] == model_name]\n",
    "    if model_data_row.empty:\n",
    "        print(f\"No data found for model: {model_name}\") # for debugging\n",
    "        continue\n",
    "    model_data = model_data_row.iloc[0]\n",
    "    \n",
    "    errors_for_current_model = {}\n",
    "    for structure in structures:\n",
    "        # Ensure model_data has the structure column and it's not null\n",
    "        if structure in model_data and pd.notnull(model_data[structure]) and \\\n",
    "           structure in vasp_data and pd.notnull(vasp_data[structure]) and vasp_data[structure] != 0:\n",
    "            error = abs((model_data[structure] - vasp_data[structure]) / vasp_data[structure]) * 100\n",
    "            errors_for_current_model[structure] = error\n",
    "        else:\n",
    "            errors_for_current_model[structure] = np.nan # Use NaN if data is missing or VASP data is zero\n",
    "    all_relative_errors[model_name] = errors_for_current_model\n",
    "\n",
    "# Create a DataFrame for better visualization\n",
    "relative_errors_all_models_df = pd.DataFrame.from_dict(all_relative_errors, orient='index')\n",
    "\n",
    "# Reset index to make model names a column and rename it appropriately\n",
    "relative_errors_all_models_df = relative_errors_all_models_df.reset_index().rename(columns={'index': 'Model'})\n",
    "\n",
    "# Display the results\n",
    "print(\"Relative Errors (%) for all models compared to VASP DFT Reference:\")\n",
    "relative_errors_all_models_df"
   ]
  },
  {
   "cell_type": "markdown",
   "id": "fe0e25c2",
   "metadata": {},
   "source": [
    "Plotting comparisions of 30 epoch Vs 100 epoch trained model"
   ]
  },
  {
   "cell_type": "code",
   "execution_count": 6,
   "id": "7611b864",
   "metadata": {},
   "outputs": [
    {
     "data": {
      "application/vnd.plotly.v1+json": {
       "config": {
        "plotlyServerURL": "https://plot.ly"
       },
       "data": [
        {
         "hovertemplate": "%{y:.2f} eV",
         "line": {
          "width": 2
         },
         "marker": {
          "size": 10
         },
         "mode": "markers+lines",
         "name": "Foundational",
         "text": {
          "bdata": "CtejcD0+dcBcj8L1KGx1wFK4HoXrsUDApHA9CtcjN8A=",
          "dtype": "f8"
         },
         "textposition": "top center",
         "type": "scatter",
         "x": [
          "Fe2NiO4",
          "NiFe2O4",
          "pure Fe",
          "pure Ni"
         ],
         "y": {
          "bdata": "7mDEPkE+dcARixh2GGx1wLjNVIhHskDAm/7sR4okN8A=",
          "dtype": "f8"
         }
        },
        {
         "hovertemplate": "%{y:.2f} eV",
         "line": {
          "width": 2
         },
         "marker": {
          "size": 10
         },
         "mode": "markers+lines",
         "name": "DFT Reference",
         "text": {
          "bdata": "FK5H4XqUeMBSuB6F69V4wHE9Ctej8EDAH4XrUbgeN8A=",
          "dtype": "f8"
         },
         "textposition": "top center",
         "type": "scatter",
         "x": [
          "Fe2NiO4",
          "NiFe2O4",
          "pure Fe",
          "pure Ni"
         ],
         "y": {
          "bdata": "ck9Xd2yUeMDiqx3F+dV4wI4G8BZI8EDA5q4l5IMeN8A=",
          "dtype": "f8"
         }
        },
        {
         "hovertemplate": "%{y:.2f} eV",
         "line": {
          "width": 2
         },
         "marker": {
          "size": 10
         },
         "mode": "markers+lines",
         "name": "30 epoch",
         "text": {
          "bdata": "XI/C9Sg0esDNzMzMzHh6wFK4HoXr0UDAPQrXo3A9N8A=",
          "dtype": "f8"
         },
         "textposition": "top center",
         "type": "scatter",
         "x": [
          "Fe2NiO4",
          "NiFe2O4",
          "pure Fe",
          "pure Ni"
         ],
         "y": {
          "bdata": "VtY2xSM0esAaFTjZxnh6wM/4vrhU0UDAdTxmoDI+N8A=",
          "dtype": "f8"
         }
        },
        {
         "hovertemplate": "%{y:.2f} eV",
         "line": {
          "width": 2
         },
         "marker": {
          "size": 10
         },
         "mode": "markers+lines",
         "name": "100 epoch",
         "text": {
          "bdata": "XI/C9Sg0esDNzMzMzHh6wFK4HoXr0UDAPQrXo3A9N8A=",
          "dtype": "f8"
         },
         "textposition": "top center",
         "type": "scatter",
         "x": [
          "Fe2NiO4",
          "NiFe2O4",
          "pure Fe",
          "pure Ni"
         ],
         "y": {
          "bdata": "VtY2xSM0esAaFTjZxnh6wM/4vrhU0UDAdTxmoDI+N8A=",
          "dtype": "f8"
         }
        }
       ],
       "layout": {
        "font": {
         "family": "Arial, sans-serif",
         "size": 12
        },
        "height": 600,
        "hovermode": "closest",
        "legend": {
         "title": {
          "text": "Model Type"
         }
        },
        "template": {
         "data": {
          "bar": [
           {
            "error_x": {
             "color": "#2a3f5f"
            },
            "error_y": {
             "color": "#2a3f5f"
            },
            "marker": {
             "line": {
              "color": "white",
              "width": 0.5
             },
             "pattern": {
              "fillmode": "overlay",
              "size": 10,
              "solidity": 0.2
             }
            },
            "type": "bar"
           }
          ],
          "barpolar": [
           {
            "marker": {
             "line": {
              "color": "white",
              "width": 0.5
             },
             "pattern": {
              "fillmode": "overlay",
              "size": 10,
              "solidity": 0.2
             }
            },
            "type": "barpolar"
           }
          ],
          "carpet": [
           {
            "aaxis": {
             "endlinecolor": "#2a3f5f",
             "gridcolor": "#C8D4E3",
             "linecolor": "#C8D4E3",
             "minorgridcolor": "#C8D4E3",
             "startlinecolor": "#2a3f5f"
            },
            "baxis": {
             "endlinecolor": "#2a3f5f",
             "gridcolor": "#C8D4E3",
             "linecolor": "#C8D4E3",
             "minorgridcolor": "#C8D4E3",
             "startlinecolor": "#2a3f5f"
            },
            "type": "carpet"
           }
          ],
          "choropleth": [
           {
            "colorbar": {
             "outlinewidth": 0,
             "ticks": ""
            },
            "type": "choropleth"
           }
          ],
          "contour": [
           {
            "colorbar": {
             "outlinewidth": 0,
             "ticks": ""
            },
            "colorscale": [
             [
              0,
              "#0d0887"
             ],
             [
              0.1111111111111111,
              "#46039f"
             ],
             [
              0.2222222222222222,
              "#7201a8"
             ],
             [
              0.3333333333333333,
              "#9c179e"
             ],
             [
              0.4444444444444444,
              "#bd3786"
             ],
             [
              0.5555555555555556,
              "#d8576b"
             ],
             [
              0.6666666666666666,
              "#ed7953"
             ],
             [
              0.7777777777777778,
              "#fb9f3a"
             ],
             [
              0.8888888888888888,
              "#fdca26"
             ],
             [
              1,
              "#f0f921"
             ]
            ],
            "type": "contour"
           }
          ],
          "contourcarpet": [
           {
            "colorbar": {
             "outlinewidth": 0,
             "ticks": ""
            },
            "type": "contourcarpet"
           }
          ],
          "heatmap": [
           {
            "colorbar": {
             "outlinewidth": 0,
             "ticks": ""
            },
            "colorscale": [
             [
              0,
              "#0d0887"
             ],
             [
              0.1111111111111111,
              "#46039f"
             ],
             [
              0.2222222222222222,
              "#7201a8"
             ],
             [
              0.3333333333333333,
              "#9c179e"
             ],
             [
              0.4444444444444444,
              "#bd3786"
             ],
             [
              0.5555555555555556,
              "#d8576b"
             ],
             [
              0.6666666666666666,
              "#ed7953"
             ],
             [
              0.7777777777777778,
              "#fb9f3a"
             ],
             [
              0.8888888888888888,
              "#fdca26"
             ],
             [
              1,
              "#f0f921"
             ]
            ],
            "type": "heatmap"
           }
          ],
          "histogram": [
           {
            "marker": {
             "pattern": {
              "fillmode": "overlay",
              "size": 10,
              "solidity": 0.2
             }
            },
            "type": "histogram"
           }
          ],
          "histogram2d": [
           {
            "colorbar": {
             "outlinewidth": 0,
             "ticks": ""
            },
            "colorscale": [
             [
              0,
              "#0d0887"
             ],
             [
              0.1111111111111111,
              "#46039f"
             ],
             [
              0.2222222222222222,
              "#7201a8"
             ],
             [
              0.3333333333333333,
              "#9c179e"
             ],
             [
              0.4444444444444444,
              "#bd3786"
             ],
             [
              0.5555555555555556,
              "#d8576b"
             ],
             [
              0.6666666666666666,
              "#ed7953"
             ],
             [
              0.7777777777777778,
              "#fb9f3a"
             ],
             [
              0.8888888888888888,
              "#fdca26"
             ],
             [
              1,
              "#f0f921"
             ]
            ],
            "type": "histogram2d"
           }
          ],
          "histogram2dcontour": [
           {
            "colorbar": {
             "outlinewidth": 0,
             "ticks": ""
            },
            "colorscale": [
             [
              0,
              "#0d0887"
             ],
             [
              0.1111111111111111,
              "#46039f"
             ],
             [
              0.2222222222222222,
              "#7201a8"
             ],
             [
              0.3333333333333333,
              "#9c179e"
             ],
             [
              0.4444444444444444,
              "#bd3786"
             ],
             [
              0.5555555555555556,
              "#d8576b"
             ],
             [
              0.6666666666666666,
              "#ed7953"
             ],
             [
              0.7777777777777778,
              "#fb9f3a"
             ],
             [
              0.8888888888888888,
              "#fdca26"
             ],
             [
              1,
              "#f0f921"
             ]
            ],
            "type": "histogram2dcontour"
           }
          ],
          "mesh3d": [
           {
            "colorbar": {
             "outlinewidth": 0,
             "ticks": ""
            },
            "type": "mesh3d"
           }
          ],
          "parcoords": [
           {
            "line": {
             "colorbar": {
              "outlinewidth": 0,
              "ticks": ""
             }
            },
            "type": "parcoords"
           }
          ],
          "pie": [
           {
            "automargin": true,
            "type": "pie"
           }
          ],
          "scatter": [
           {
            "fillpattern": {
             "fillmode": "overlay",
             "size": 10,
             "solidity": 0.2
            },
            "type": "scatter"
           }
          ],
          "scatter3d": [
           {
            "line": {
             "colorbar": {
              "outlinewidth": 0,
              "ticks": ""
             }
            },
            "marker": {
             "colorbar": {
              "outlinewidth": 0,
              "ticks": ""
             }
            },
            "type": "scatter3d"
           }
          ],
          "scattercarpet": [
           {
            "marker": {
             "colorbar": {
              "outlinewidth": 0,
              "ticks": ""
             }
            },
            "type": "scattercarpet"
           }
          ],
          "scattergeo": [
           {
            "marker": {
             "colorbar": {
              "outlinewidth": 0,
              "ticks": ""
             }
            },
            "type": "scattergeo"
           }
          ],
          "scattergl": [
           {
            "marker": {
             "colorbar": {
              "outlinewidth": 0,
              "ticks": ""
             }
            },
            "type": "scattergl"
           }
          ],
          "scattermap": [
           {
            "marker": {
             "colorbar": {
              "outlinewidth": 0,
              "ticks": ""
             }
            },
            "type": "scattermap"
           }
          ],
          "scattermapbox": [
           {
            "marker": {
             "colorbar": {
              "outlinewidth": 0,
              "ticks": ""
             }
            },
            "type": "scattermapbox"
           }
          ],
          "scatterpolar": [
           {
            "marker": {
             "colorbar": {
              "outlinewidth": 0,
              "ticks": ""
             }
            },
            "type": "scatterpolar"
           }
          ],
          "scatterpolargl": [
           {
            "marker": {
             "colorbar": {
              "outlinewidth": 0,
              "ticks": ""
             }
            },
            "type": "scatterpolargl"
           }
          ],
          "scatterternary": [
           {
            "marker": {
             "colorbar": {
              "outlinewidth": 0,
              "ticks": ""
             }
            },
            "type": "scatterternary"
           }
          ],
          "surface": [
           {
            "colorbar": {
             "outlinewidth": 0,
             "ticks": ""
            },
            "colorscale": [
             [
              0,
              "#0d0887"
             ],
             [
              0.1111111111111111,
              "#46039f"
             ],
             [
              0.2222222222222222,
              "#7201a8"
             ],
             [
              0.3333333333333333,
              "#9c179e"
             ],
             [
              0.4444444444444444,
              "#bd3786"
             ],
             [
              0.5555555555555556,
              "#d8576b"
             ],
             [
              0.6666666666666666,
              "#ed7953"
             ],
             [
              0.7777777777777778,
              "#fb9f3a"
             ],
             [
              0.8888888888888888,
              "#fdca26"
             ],
             [
              1,
              "#f0f921"
             ]
            ],
            "type": "surface"
           }
          ],
          "table": [
           {
            "cells": {
             "fill": {
              "color": "#EBF0F8"
             },
             "line": {
              "color": "white"
             }
            },
            "header": {
             "fill": {
              "color": "#C8D4E3"
             },
             "line": {
              "color": "white"
             }
            },
            "type": "table"
           }
          ]
         },
         "layout": {
          "annotationdefaults": {
           "arrowcolor": "#2a3f5f",
           "arrowhead": 0,
           "arrowwidth": 1
          },
          "autotypenumbers": "strict",
          "coloraxis": {
           "colorbar": {
            "outlinewidth": 0,
            "ticks": ""
           }
          },
          "colorscale": {
           "diverging": [
            [
             0,
             "#8e0152"
            ],
            [
             0.1,
             "#c51b7d"
            ],
            [
             0.2,
             "#de77ae"
            ],
            [
             0.3,
             "#f1b6da"
            ],
            [
             0.4,
             "#fde0ef"
            ],
            [
             0.5,
             "#f7f7f7"
            ],
            [
             0.6,
             "#e6f5d0"
            ],
            [
             0.7,
             "#b8e186"
            ],
            [
             0.8,
             "#7fbc41"
            ],
            [
             0.9,
             "#4d9221"
            ],
            [
             1,
             "#276419"
            ]
           ],
           "sequential": [
            [
             0,
             "#0d0887"
            ],
            [
             0.1111111111111111,
             "#46039f"
            ],
            [
             0.2222222222222222,
             "#7201a8"
            ],
            [
             0.3333333333333333,
             "#9c179e"
            ],
            [
             0.4444444444444444,
             "#bd3786"
            ],
            [
             0.5555555555555556,
             "#d8576b"
            ],
            [
             0.6666666666666666,
             "#ed7953"
            ],
            [
             0.7777777777777778,
             "#fb9f3a"
            ],
            [
             0.8888888888888888,
             "#fdca26"
            ],
            [
             1,
             "#f0f921"
            ]
           ],
           "sequentialminus": [
            [
             0,
             "#0d0887"
            ],
            [
             0.1111111111111111,
             "#46039f"
            ],
            [
             0.2222222222222222,
             "#7201a8"
            ],
            [
             0.3333333333333333,
             "#9c179e"
            ],
            [
             0.4444444444444444,
             "#bd3786"
            ],
            [
             0.5555555555555556,
             "#d8576b"
            ],
            [
             0.6666666666666666,
             "#ed7953"
            ],
            [
             0.7777777777777778,
             "#fb9f3a"
            ],
            [
             0.8888888888888888,
             "#fdca26"
            ],
            [
             1,
             "#f0f921"
            ]
           ]
          },
          "colorway": [
           "#636efa",
           "#EF553B",
           "#00cc96",
           "#ab63fa",
           "#FFA15A",
           "#19d3f3",
           "#FF6692",
           "#B6E880",
           "#FF97FF",
           "#FECB52"
          ],
          "font": {
           "color": "#2a3f5f"
          },
          "geo": {
           "bgcolor": "white",
           "lakecolor": "white",
           "landcolor": "white",
           "showlakes": true,
           "showland": true,
           "subunitcolor": "#C8D4E3"
          },
          "hoverlabel": {
           "align": "left"
          },
          "hovermode": "closest",
          "mapbox": {
           "style": "light"
          },
          "paper_bgcolor": "white",
          "plot_bgcolor": "white",
          "polar": {
           "angularaxis": {
            "gridcolor": "#EBF0F8",
            "linecolor": "#EBF0F8",
            "ticks": ""
           },
           "bgcolor": "white",
           "radialaxis": {
            "gridcolor": "#EBF0F8",
            "linecolor": "#EBF0F8",
            "ticks": ""
           }
          },
          "scene": {
           "xaxis": {
            "backgroundcolor": "white",
            "gridcolor": "#DFE8F3",
            "gridwidth": 2,
            "linecolor": "#EBF0F8",
            "showbackground": true,
            "ticks": "",
            "zerolinecolor": "#EBF0F8"
           },
           "yaxis": {
            "backgroundcolor": "white",
            "gridcolor": "#DFE8F3",
            "gridwidth": 2,
            "linecolor": "#EBF0F8",
            "showbackground": true,
            "ticks": "",
            "zerolinecolor": "#EBF0F8"
           },
           "zaxis": {
            "backgroundcolor": "white",
            "gridcolor": "#DFE8F3",
            "gridwidth": 2,
            "linecolor": "#EBF0F8",
            "showbackground": true,
            "ticks": "",
            "zerolinecolor": "#EBF0F8"
           }
          },
          "shapedefaults": {
           "line": {
            "color": "#2a3f5f"
           }
          },
          "ternary": {
           "aaxis": {
            "gridcolor": "#DFE8F3",
            "linecolor": "#A2B1C6",
            "ticks": ""
           },
           "baxis": {
            "gridcolor": "#DFE8F3",
            "linecolor": "#A2B1C6",
            "ticks": ""
           },
           "bgcolor": "white",
           "caxis": {
            "gridcolor": "#DFE8F3",
            "linecolor": "#A2B1C6",
            "ticks": ""
           }
          },
          "title": {
           "x": 0.05
          },
          "xaxis": {
           "automargin": true,
           "gridcolor": "#EBF0F8",
           "linecolor": "#EBF0F8",
           "ticks": "",
           "title": {
            "standoff": 15
           },
           "zerolinecolor": "#EBF0F8",
           "zerolinewidth": 2
          },
          "yaxis": {
           "automargin": true,
           "gridcolor": "#EBF0F8",
           "linecolor": "#EBF0F8",
           "ticks": "",
           "title": {
            "standoff": 15
           },
           "zerolinecolor": "#EBF0F8",
           "zerolinewidth": 2
          }
         }
        },
        "title": {
         "text": "Comparison of Model Energies vs. DFT Reference",
         "x": 0.5
        },
        "width": 900,
        "xaxis": {
         "title": {
          "text": "Material Structure"
         }
        },
        "yaxis": {
         "title": {
          "text": "Energy (eV)"
         }
        }
       }
      }
     },
     "metadata": {},
     "output_type": "display_data"
    }
   ],
   "source": [
    "import pandas as pd\n",
    "import plotly.express as px\n",
    "import plotly.graph_objects as go\n",
    "\n",
    "# Data from your table\n",
    "data = {\n",
    "    'Structure': ['Fe2NiO4', 'NiFe2O4', 'pure Fe', 'pure Ni',\n",
    "                  'Fe2NiO4', 'NiFe2O4', 'pure Fe', 'pure Ni',\n",
    "                  'Fe2NiO4', 'NiFe2O4', 'pure Fe', 'pure Ni',\n",
    "                  'Fe2NiO4', 'NiFe2O4', 'pure Fe', 'pure Ni'],\n",
    "    'Model': ['Foundational'] * 4 + ['DFT Reference'] * 4 + ['30 epoch'] * 4 + ['100 epoch'] * 4,\n",
    "    'Energy (eV)': [\n",
    "        # Foundational\n",
    "        -339.890929, -342.755972, -33.392808, -23.142735,\n",
    "        # DFT Reference\n",
    "        -393.276481, -397.373479, -33.8772, -23.1192,\n",
    "        # 30 epoch\n",
    "        -419.258733, -423.548547, -33.635398, -23.242960,\n",
    "        # 100 epoch\n",
    "        -419.258733, -423.548547, -33.635398, -23.242960\n",
    "    ]\n",
    "}\n",
    "\n",
    "df = pd.DataFrame(data)\n",
    "\n",
    "# Create a scatter plot with lines\n",
    "fig = go.Figure()\n",
    "\n",
    "# Define colors for each model\n",
    "colors = {\n",
    "    'Foundational': '#1f77b4',\n",
    "    'DFT Reference': '#ff7f0e',\n",
    "    '30 epoch': '#2ca02e',\n",
    "    '100 epoch': '#d62728'\n",
    "}\n",
    "\n",
    "# Add traces for each model\n",
    "for model in df['Model'].unique():\n",
    "    model_data = df[df['Model'] == model]\n",
    "    \n",
    "    fig.add_trace(go.Scatter(\n",
    "        x=model_data['Structure'],\n",
    "        y=model_data['Energy (eV)'],\n",
    "        mode='markers+lines',\n",
    "        name=model,\n",
    "        marker=dict(size=10),\n",
    "        line=dict(width=2),\n",
    "        text=model_data['Energy (eV)'].round(2),  # Round to 2 decimal places for hover text\n",
    "        textposition=\"top center\",\n",
    "        hovertemplate='%{y:.2f} eV',\n",
    "    ))\n",
    "\n",
    "# Improve layout\n",
    "fig.update_layout(\n",
    "    title='Comparison of Model Energies vs. DFT Reference',\n",
    "    xaxis_title=\"Material Structure\",\n",
    "    yaxis_title=\"Energy (eV)\",\n",
    "    legend_title=\"Model Type\",\n",
    "    title_x=0.5,  # Center title\n",
    "    font=dict(\n",
    "        family=\"Arial, sans-serif\",\n",
    "        size=12\n",
    "    ),\n",
    "    hovermode=\"closest\",\n",
    "    template=\"plotly_white\",\n",
    "    height=600,\n",
    "    width=900\n",
    ")\n",
    "\n",
    "# Show the plot\n",
    "fig.show()\n",
    "\n",
    "# To save the plot (optional)\n",
    "# fig.write_image(\"model_energy_comparison.png\", scale=2)  # For static image\n",
    "# fig.write_html(\"model_energy_comparison.html\")  # For interactive HTML"
   ]
  },
  {
   "cell_type": "code",
   "execution_count": 7,
   "id": "aec2a7f2",
   "metadata": {},
   "outputs": [
    {
     "data": {
      "application/vnd.plotly.v1+json": {
       "config": {
        "plotlyServerURL": "https://plot.ly"
       },
       "data": [
        {
         "line": {
          "color": "blue",
          "width": 2
         },
         "marker": {
          "size": 10,
          "symbol": "circle"
         },
         "mode": "lines+markers",
         "name": "mpa_0",
         "type": "scatter",
         "x": [
          "Mo_center",
          "Mo_Ni_oct",
          "Mo_Fe_tet",
          "Mo_Fe_oct",
          "inverse_spinel"
         ],
         "y": [
          -324.28744515183723,
          -347.7254231038868,
          -344.01119906026,
          -344.42665626547563,
          -342.7559721282622
         ]
        },
        {
         "line": {
          "color": "red",
          "width": 2
         },
         "marker": {
          "size": 10,
          "symbol": "square"
         },
         "mode": "lines+markers",
         "name": "VASP DFT Reference",
         "type": "scatter",
         "x": [
          "Mo_center",
          "Mo_Ni_oct",
          "Mo_Fe_tet",
          "Mo_Fe_oct",
          "inverse_spinel"
         ],
         "y": [
          -380.27088,
          -404.506915,
          -400.619417,
          -401.461344,
          -397.373479
         ]
        },
        {
         "line": {
          "color": "green",
          "width": 2
         },
         "marker": {
          "size": 10,
          "symbol": "triangle-up"
         },
         "mode": "lines+markers",
         "name": "fine-tuned_234",
         "type": "scatter",
         "x": [
          "Mo_center",
          "Mo_Ni_oct",
          "Mo_Fe_tet",
          "Mo_Fe_oct",
          "inverse_spinel"
         ],
         "y": [
          -337.15788388934413,
          -361.085897388159,
          -356.18036220470594,
          -356.64806644064294,
          -349.2754010511795
         ]
        },
        {
         "line": {
          "color": "purple",
          "width": 2
         },
         "marker": {
          "size": 10,
          "symbol": "diamond"
         },
         "mode": "lines+markers",
         "name": "fine-tuned_314",
         "type": "scatter",
         "x": [
          "Mo_center",
          "Mo_Ni_oct",
          "Mo_Fe_tet",
          "Mo_Fe_oct",
          "inverse_spinel"
         ],
         "y": [
          -401.2111210060062,
          -426.4870510289541,
          -421.41935555538663,
          -422.1894652988651,
          -417.4770821734682
         ]
        }
       ],
       "layout": {
        "height": 600,
        "legend": {
         "title": {
          "text": "Model"
         }
        },
        "template": {
         "data": {
          "bar": [
           {
            "error_x": {
             "color": "#2a3f5f"
            },
            "error_y": {
             "color": "#2a3f5f"
            },
            "marker": {
             "line": {
              "color": "white",
              "width": 0.5
             },
             "pattern": {
              "fillmode": "overlay",
              "size": 10,
              "solidity": 0.2
             }
            },
            "type": "bar"
           }
          ],
          "barpolar": [
           {
            "marker": {
             "line": {
              "color": "white",
              "width": 0.5
             },
             "pattern": {
              "fillmode": "overlay",
              "size": 10,
              "solidity": 0.2
             }
            },
            "type": "barpolar"
           }
          ],
          "carpet": [
           {
            "aaxis": {
             "endlinecolor": "#2a3f5f",
             "gridcolor": "#C8D4E3",
             "linecolor": "#C8D4E3",
             "minorgridcolor": "#C8D4E3",
             "startlinecolor": "#2a3f5f"
            },
            "baxis": {
             "endlinecolor": "#2a3f5f",
             "gridcolor": "#C8D4E3",
             "linecolor": "#C8D4E3",
             "minorgridcolor": "#C8D4E3",
             "startlinecolor": "#2a3f5f"
            },
            "type": "carpet"
           }
          ],
          "choropleth": [
           {
            "colorbar": {
             "outlinewidth": 0,
             "ticks": ""
            },
            "type": "choropleth"
           }
          ],
          "contour": [
           {
            "colorbar": {
             "outlinewidth": 0,
             "ticks": ""
            },
            "colorscale": [
             [
              0,
              "#0d0887"
             ],
             [
              0.1111111111111111,
              "#46039f"
             ],
             [
              0.2222222222222222,
              "#7201a8"
             ],
             [
              0.3333333333333333,
              "#9c179e"
             ],
             [
              0.4444444444444444,
              "#bd3786"
             ],
             [
              0.5555555555555556,
              "#d8576b"
             ],
             [
              0.6666666666666666,
              "#ed7953"
             ],
             [
              0.7777777777777778,
              "#fb9f3a"
             ],
             [
              0.8888888888888888,
              "#fdca26"
             ],
             [
              1,
              "#f0f921"
             ]
            ],
            "type": "contour"
           }
          ],
          "contourcarpet": [
           {
            "colorbar": {
             "outlinewidth": 0,
             "ticks": ""
            },
            "type": "contourcarpet"
           }
          ],
          "heatmap": [
           {
            "colorbar": {
             "outlinewidth": 0,
             "ticks": ""
            },
            "colorscale": [
             [
              0,
              "#0d0887"
             ],
             [
              0.1111111111111111,
              "#46039f"
             ],
             [
              0.2222222222222222,
              "#7201a8"
             ],
             [
              0.3333333333333333,
              "#9c179e"
             ],
             [
              0.4444444444444444,
              "#bd3786"
             ],
             [
              0.5555555555555556,
              "#d8576b"
             ],
             [
              0.6666666666666666,
              "#ed7953"
             ],
             [
              0.7777777777777778,
              "#fb9f3a"
             ],
             [
              0.8888888888888888,
              "#fdca26"
             ],
             [
              1,
              "#f0f921"
             ]
            ],
            "type": "heatmap"
           }
          ],
          "histogram": [
           {
            "marker": {
             "pattern": {
              "fillmode": "overlay",
              "size": 10,
              "solidity": 0.2
             }
            },
            "type": "histogram"
           }
          ],
          "histogram2d": [
           {
            "colorbar": {
             "outlinewidth": 0,
             "ticks": ""
            },
            "colorscale": [
             [
              0,
              "#0d0887"
             ],
             [
              0.1111111111111111,
              "#46039f"
             ],
             [
              0.2222222222222222,
              "#7201a8"
             ],
             [
              0.3333333333333333,
              "#9c179e"
             ],
             [
              0.4444444444444444,
              "#bd3786"
             ],
             [
              0.5555555555555556,
              "#d8576b"
             ],
             [
              0.6666666666666666,
              "#ed7953"
             ],
             [
              0.7777777777777778,
              "#fb9f3a"
             ],
             [
              0.8888888888888888,
              "#fdca26"
             ],
             [
              1,
              "#f0f921"
             ]
            ],
            "type": "histogram2d"
           }
          ],
          "histogram2dcontour": [
           {
            "colorbar": {
             "outlinewidth": 0,
             "ticks": ""
            },
            "colorscale": [
             [
              0,
              "#0d0887"
             ],
             [
              0.1111111111111111,
              "#46039f"
             ],
             [
              0.2222222222222222,
              "#7201a8"
             ],
             [
              0.3333333333333333,
              "#9c179e"
             ],
             [
              0.4444444444444444,
              "#bd3786"
             ],
             [
              0.5555555555555556,
              "#d8576b"
             ],
             [
              0.6666666666666666,
              "#ed7953"
             ],
             [
              0.7777777777777778,
              "#fb9f3a"
             ],
             [
              0.8888888888888888,
              "#fdca26"
             ],
             [
              1,
              "#f0f921"
             ]
            ],
            "type": "histogram2dcontour"
           }
          ],
          "mesh3d": [
           {
            "colorbar": {
             "outlinewidth": 0,
             "ticks": ""
            },
            "type": "mesh3d"
           }
          ],
          "parcoords": [
           {
            "line": {
             "colorbar": {
              "outlinewidth": 0,
              "ticks": ""
             }
            },
            "type": "parcoords"
           }
          ],
          "pie": [
           {
            "automargin": true,
            "type": "pie"
           }
          ],
          "scatter": [
           {
            "fillpattern": {
             "fillmode": "overlay",
             "size": 10,
             "solidity": 0.2
            },
            "type": "scatter"
           }
          ],
          "scatter3d": [
           {
            "line": {
             "colorbar": {
              "outlinewidth": 0,
              "ticks": ""
             }
            },
            "marker": {
             "colorbar": {
              "outlinewidth": 0,
              "ticks": ""
             }
            },
            "type": "scatter3d"
           }
          ],
          "scattercarpet": [
           {
            "marker": {
             "colorbar": {
              "outlinewidth": 0,
              "ticks": ""
             }
            },
            "type": "scattercarpet"
           }
          ],
          "scattergeo": [
           {
            "marker": {
             "colorbar": {
              "outlinewidth": 0,
              "ticks": ""
             }
            },
            "type": "scattergeo"
           }
          ],
          "scattergl": [
           {
            "marker": {
             "colorbar": {
              "outlinewidth": 0,
              "ticks": ""
             }
            },
            "type": "scattergl"
           }
          ],
          "scattermap": [
           {
            "marker": {
             "colorbar": {
              "outlinewidth": 0,
              "ticks": ""
             }
            },
            "type": "scattermap"
           }
          ],
          "scattermapbox": [
           {
            "marker": {
             "colorbar": {
              "outlinewidth": 0,
              "ticks": ""
             }
            },
            "type": "scattermapbox"
           }
          ],
          "scatterpolar": [
           {
            "marker": {
             "colorbar": {
              "outlinewidth": 0,
              "ticks": ""
             }
            },
            "type": "scatterpolar"
           }
          ],
          "scatterpolargl": [
           {
            "marker": {
             "colorbar": {
              "outlinewidth": 0,
              "ticks": ""
             }
            },
            "type": "scatterpolargl"
           }
          ],
          "scatterternary": [
           {
            "marker": {
             "colorbar": {
              "outlinewidth": 0,
              "ticks": ""
             }
            },
            "type": "scatterternary"
           }
          ],
          "surface": [
           {
            "colorbar": {
             "outlinewidth": 0,
             "ticks": ""
            },
            "colorscale": [
             [
              0,
              "#0d0887"
             ],
             [
              0.1111111111111111,
              "#46039f"
             ],
             [
              0.2222222222222222,
              "#7201a8"
             ],
             [
              0.3333333333333333,
              "#9c179e"
             ],
             [
              0.4444444444444444,
              "#bd3786"
             ],
             [
              0.5555555555555556,
              "#d8576b"
             ],
             [
              0.6666666666666666,
              "#ed7953"
             ],
             [
              0.7777777777777778,
              "#fb9f3a"
             ],
             [
              0.8888888888888888,
              "#fdca26"
             ],
             [
              1,
              "#f0f921"
             ]
            ],
            "type": "surface"
           }
          ],
          "table": [
           {
            "cells": {
             "fill": {
              "color": "#EBF0F8"
             },
             "line": {
              "color": "white"
             }
            },
            "header": {
             "fill": {
              "color": "#C8D4E3"
             },
             "line": {
              "color": "white"
             }
            },
            "type": "table"
           }
          ]
         },
         "layout": {
          "annotationdefaults": {
           "arrowcolor": "#2a3f5f",
           "arrowhead": 0,
           "arrowwidth": 1
          },
          "autotypenumbers": "strict",
          "coloraxis": {
           "colorbar": {
            "outlinewidth": 0,
            "ticks": ""
           }
          },
          "colorscale": {
           "diverging": [
            [
             0,
             "#8e0152"
            ],
            [
             0.1,
             "#c51b7d"
            ],
            [
             0.2,
             "#de77ae"
            ],
            [
             0.3,
             "#f1b6da"
            ],
            [
             0.4,
             "#fde0ef"
            ],
            [
             0.5,
             "#f7f7f7"
            ],
            [
             0.6,
             "#e6f5d0"
            ],
            [
             0.7,
             "#b8e186"
            ],
            [
             0.8,
             "#7fbc41"
            ],
            [
             0.9,
             "#4d9221"
            ],
            [
             1,
             "#276419"
            ]
           ],
           "sequential": [
            [
             0,
             "#0d0887"
            ],
            [
             0.1111111111111111,
             "#46039f"
            ],
            [
             0.2222222222222222,
             "#7201a8"
            ],
            [
             0.3333333333333333,
             "#9c179e"
            ],
            [
             0.4444444444444444,
             "#bd3786"
            ],
            [
             0.5555555555555556,
             "#d8576b"
            ],
            [
             0.6666666666666666,
             "#ed7953"
            ],
            [
             0.7777777777777778,
             "#fb9f3a"
            ],
            [
             0.8888888888888888,
             "#fdca26"
            ],
            [
             1,
             "#f0f921"
            ]
           ],
           "sequentialminus": [
            [
             0,
             "#0d0887"
            ],
            [
             0.1111111111111111,
             "#46039f"
            ],
            [
             0.2222222222222222,
             "#7201a8"
            ],
            [
             0.3333333333333333,
             "#9c179e"
            ],
            [
             0.4444444444444444,
             "#bd3786"
            ],
            [
             0.5555555555555556,
             "#d8576b"
            ],
            [
             0.6666666666666666,
             "#ed7953"
            ],
            [
             0.7777777777777778,
             "#fb9f3a"
            ],
            [
             0.8888888888888888,
             "#fdca26"
            ],
            [
             1,
             "#f0f921"
            ]
           ]
          },
          "colorway": [
           "#636efa",
           "#EF553B",
           "#00cc96",
           "#ab63fa",
           "#FFA15A",
           "#19d3f3",
           "#FF6692",
           "#B6E880",
           "#FF97FF",
           "#FECB52"
          ],
          "font": {
           "color": "#2a3f5f"
          },
          "geo": {
           "bgcolor": "white",
           "lakecolor": "white",
           "landcolor": "white",
           "showlakes": true,
           "showland": true,
           "subunitcolor": "#C8D4E3"
          },
          "hoverlabel": {
           "align": "left"
          },
          "hovermode": "closest",
          "mapbox": {
           "style": "light"
          },
          "paper_bgcolor": "white",
          "plot_bgcolor": "white",
          "polar": {
           "angularaxis": {
            "gridcolor": "#EBF0F8",
            "linecolor": "#EBF0F8",
            "ticks": ""
           },
           "bgcolor": "white",
           "radialaxis": {
            "gridcolor": "#EBF0F8",
            "linecolor": "#EBF0F8",
            "ticks": ""
           }
          },
          "scene": {
           "xaxis": {
            "backgroundcolor": "white",
            "gridcolor": "#DFE8F3",
            "gridwidth": 2,
            "linecolor": "#EBF0F8",
            "showbackground": true,
            "ticks": "",
            "zerolinecolor": "#EBF0F8"
           },
           "yaxis": {
            "backgroundcolor": "white",
            "gridcolor": "#DFE8F3",
            "gridwidth": 2,
            "linecolor": "#EBF0F8",
            "showbackground": true,
            "ticks": "",
            "zerolinecolor": "#EBF0F8"
           },
           "zaxis": {
            "backgroundcolor": "white",
            "gridcolor": "#DFE8F3",
            "gridwidth": 2,
            "linecolor": "#EBF0F8",
            "showbackground": true,
            "ticks": "",
            "zerolinecolor": "#EBF0F8"
           }
          },
          "shapedefaults": {
           "line": {
            "color": "#2a3f5f"
           }
          },
          "ternary": {
           "aaxis": {
            "gridcolor": "#DFE8F3",
            "linecolor": "#A2B1C6",
            "ticks": ""
           },
           "baxis": {
            "gridcolor": "#DFE8F3",
            "linecolor": "#A2B1C6",
            "ticks": ""
           },
           "bgcolor": "white",
           "caxis": {
            "gridcolor": "#DFE8F3",
            "linecolor": "#A2B1C6",
            "ticks": ""
           }
          },
          "title": {
           "x": 0.05
          },
          "xaxis": {
           "automargin": true,
           "gridcolor": "#EBF0F8",
           "linecolor": "#EBF0F8",
           "ticks": "",
           "title": {
            "standoff": 15
           },
           "zerolinecolor": "#EBF0F8",
           "zerolinewidth": 2
          },
          "yaxis": {
           "automargin": true,
           "gridcolor": "#EBF0F8",
           "linecolor": "#EBF0F8",
           "ticks": "",
           "title": {
            "standoff": 15
           },
           "zerolinecolor": "#EBF0F8",
           "zerolinewidth": 2
          }
         }
        },
        "title": {
         "text": "Energy Comparison for Different Models and Structures"
        },
        "width": 900,
        "xaxis": {
         "title": {
          "text": "Structure"
         }
        },
        "yaxis": {
         "title": {
          "text": "Energy (eV)"
         }
        }
       }
      }
     },
     "metadata": {},
     "output_type": "display_data"
    }
   ],
   "source": [
    "import plotly.graph_objects as go\n",
    "\n",
    "# Filter the DataFrame for the requested models\n",
    "models_to_plot = ['mpa_0', 'VASP DFT Reference', 'fine-tuned_234', 'fine-tuned_314']\n",
    "filtered_df = energies_data_df[energies_data_df['model'].isin(models_to_plot)]\n",
    "\n",
    "# Columns to plot (excluding 'model' and any columns with all NaN values for these models)\n",
    "columns_to_plot = ['Mo_center', 'Mo_Ni_oct', 'Mo_Fe_tet', 'Mo_Fe_oct', 'inverse_spinel']\n",
    "available_columns = [col for col in columns_to_plot if not filtered_df[col].isna().all()]\n",
    "\n",
    "# Create a figure\n",
    "fig = go.Figure()\n",
    "\n",
    "# Colors for different models\n",
    "colors = {'mpa_0': 'blue', 'VASP DFT Reference': 'red', 'fine-tuned_234': 'green', 'fine-tuned_314': 'purple'}\n",
    "markers = {'mpa_0': 'circle', 'VASP DFT Reference': 'square', 'fine-tuned_234': 'triangle-up', 'fine-tuned_314': 'diamond'}\n",
    "\n",
    "# Add each model as a separate trace\n",
    "for model in models_to_plot:\n",
    "    model_data = filtered_df[filtered_df['model'] == model]\n",
    "    \n",
    "    if not model_data.empty:\n",
    "        x_values = []\n",
    "        y_values = []\n",
    "        \n",
    "        for col in available_columns:\n",
    "            if not pd.isna(model_data[col].values[0]):\n",
    "                x_values.append(col)\n",
    "                y_values.append(model_data[col].values[0])\n",
    "        \n",
    "        fig.add_trace(go.Scatter(\n",
    "            x=x_values,\n",
    "            y=y_values,\n",
    "            mode='lines+markers',\n",
    "            name=model,\n",
    "            line=dict(color=colors[model], width=2),\n",
    "            marker=dict(symbol=markers[model], size=10)\n",
    "        ))\n",
    "\n",
    "# Update layout\n",
    "fig.update_layout(\n",
    "    title='Energy Comparison for Different Models and Structures',\n",
    "    xaxis_title='Structure',\n",
    "    yaxis_title='Energy (eV)',\n",
    "    legend_title='Model',\n",
    "    template='plotly_white',\n",
    "    height=600,\n",
    "    width=900\n",
    ")\n",
    "\n",
    "# Show the plot\n",
    "fig.show()\n",
    "# Save the figure as png\n",
    "# fig.write_image(\"/Users/soni_aman/Documents/Master Thesis/Sir_Sihna_Sign/Latex_Thesis/From_Scratch/preliminaries/images/energy_comparison_plot.png\", width=900, height=600)\n"
   ]
  },
  {
   "cell_type": "markdown",
   "id": "2223e68c",
   "metadata": {},
   "source": [
    "Extras: Formation Energies Analysis"
   ]
  },
  {
   "cell_type": "code",
   "execution_count": 8,
   "id": "722e019b",
   "metadata": {},
   "outputs": [],
   "source": [
    "def get_formation_energies(model):\n",
    "    \"\"\"\n",
    "    Calculate the formation energy based on the structure energy.\n",
    "    input:\n",
    "    model: str, the model name to calculate the formation energy for.\n",
    "    output:\n",
    "    formation_energy: float, the calculated formation energy.\n",
    "    \"\"\"\n",
    "    row = energies_data_df[energies_data_df['model'] == model]\n",
    "    \n",
    "    mo_center = row['Mo_center'].values[0]\n",
    "    mo_ni_oct = row['Mo_Ni_oct'].values[0]\n",
    "    mo_fe_tet = row['Mo_Fe_tet'].values[0]\n",
    "    mo_fe_oct = row['Mo_Fe_oct'].values[0]\n",
    "    inverse_spinel = row['inverse_spinel'].values[0]\n",
    "    # Chemical potentials\n",
    "    fe_only = (row['Fe_only'].values[0])/4 \n",
    "    ni_only = (row['Ni_only'].values[0])/4\n",
    "    mo_only = (row['Mo_only'].values[0])/4\n",
    "    \n",
    "    \n",
    "    # Calculate the formation energy\n",
    "    formation_energy_Mo_Fe_oct = mo_fe_oct - (inverse_spinel - fe_only + mo_only)\n",
    "    formation_energy_Mo_Ni_oct = mo_ni_oct - (inverse_spinel - ni_only + mo_only)\n",
    "    formation_energy_Mo_Fe_tet = mo_fe_tet - (inverse_spinel - fe_only + mo_only)\n",
    "    formation_energy_Mo_center = mo_center - (inverse_spinel + mo_only)\n",
    "    \n",
    "    return formation_energy_Mo_Fe_oct, formation_energy_Mo_Ni_oct, formation_energy_Mo_Fe_tet, formation_energy_Mo_center"
   ]
  },
  {
   "cell_type": "code",
   "execution_count": 10,
   "id": "796d2265",
   "metadata": {},
   "outputs": [
    {
     "data": {
      "text/html": [
       "<div>\n",
       "<style scoped>\n",
       "    .dataframe tbody tr th:only-of-type {\n",
       "        vertical-align: middle;\n",
       "    }\n",
       "\n",
       "    .dataframe tbody tr th {\n",
       "        vertical-align: top;\n",
       "    }\n",
       "\n",
       "    .dataframe thead th {\n",
       "        text-align: right;\n",
       "    }\n",
       "</style>\n",
       "<table border=\"1\" class=\"dataframe\">\n",
       "  <thead>\n",
       "    <tr style=\"text-align: right;\">\n",
       "      <th></th>\n",
       "      <th>Mo_Fe_oct</th>\n",
       "      <th>Mo_Ni_oct</th>\n",
       "      <th>Mo_Fe_tet</th>\n",
       "      <th>Mo_center</th>\n",
       "    </tr>\n",
       "  </thead>\n",
       "  <tbody>\n",
       "    <tr>\n",
       "      <th>mpa_0</th>\n",
       "      <td>0.297755</td>\n",
       "      <td>-0.438494</td>\n",
       "      <td>0.713212</td>\n",
       "      <td>28.785168</td>\n",
       "    </tr>\n",
       "    <tr>\n",
       "      <th>VASP DFT Reference</th>\n",
       "      <td>-1.630356</td>\n",
       "      <td>-2.120531</td>\n",
       "      <td>-0.788429</td>\n",
       "      <td>27.419138</td>\n",
       "    </tr>\n",
       "    <tr>\n",
       "      <th>fine-tuned_234</th>\n",
       "      <td>-5.446708</td>\n",
       "      <td>-7.420896</td>\n",
       "      <td>-4.979004</td>\n",
       "      <td>22.364689</td>\n",
       "    </tr>\n",
       "    <tr>\n",
       "      <th>fine-tuned_314</th>\n",
       "      <td>-2.796697</td>\n",
       "      <td>-4.619715</td>\n",
       "      <td>-2.026587</td>\n",
       "      <td>26.810916</td>\n",
       "    </tr>\n",
       "  </tbody>\n",
       "</table>\n",
       "</div>"
      ],
      "text/plain": [
       "                    Mo_Fe_oct  Mo_Ni_oct  Mo_Fe_tet  Mo_center\n",
       "mpa_0                0.297755  -0.438494   0.713212  28.785168\n",
       "VASP DFT Reference  -1.630356  -2.120531  -0.788429  27.419138\n",
       "fine-tuned_234      -5.446708  -7.420896  -4.979004  22.364689\n",
       "fine-tuned_314      -2.796697  -4.619715  -2.026587  26.810916"
      ]
     },
     "execution_count": 10,
     "metadata": {},
     "output_type": "execute_result"
    }
   ],
   "source": [
    "formation_energies_results = {}\n",
    "for model in models_to_plot:\n",
    "    formation_energies = get_formation_energies(model)\n",
    "    formation_energies_results[model] = formation_energies\n",
    "    \n",
    "results_df = pd.DataFrame(formation_energies_results, index=['Mo_Fe_oct', 'Mo_Ni_oct', 'Mo_Fe_tet', 'Mo_center']).T\n",
    "results_df "
   ]
  }
 ],
 "metadata": {
  "kernelspec": {
   "display_name": "thesis_all",
   "language": "python",
   "name": "python3"
  },
  "language_info": {
   "codemirror_mode": {
    "name": "ipython",
    "version": 3
   },
   "file_extension": ".py",
   "mimetype": "text/x-python",
   "name": "python",
   "nbconvert_exporter": "python",
   "pygments_lexer": "ipython3",
   "version": "3.13.2"
  }
 },
 "nbformat": 4,
 "nbformat_minor": 5
}
